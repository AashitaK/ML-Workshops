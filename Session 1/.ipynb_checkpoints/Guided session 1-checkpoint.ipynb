{
 "cells": [
  {
   "cell_type": "markdown",
   "metadata": {},
   "source": [
    "### Guided session 1\n",
    "\n",
    "Let us first import the python module `pandas`."
   ]
  },
  {
   "cell_type": "code",
   "execution_count": 4,
   "metadata": {
    "_uuid": "c43d8259ee0ef9187d24be07a98a0cddbedc7208"
   },
   "outputs": [],
   "source": [
    "import pandas as pd"
   ]
  },
  {
   "cell_type": "markdown",
   "metadata": {
    "_uuid": "c54fffcee8c9b8f16a4af54165a7027efda033dd"
   },
   "source": [
    "Pandas: an excellent tool to work with datasets\n",
    "\n",
    "Dataframes: the central data structure of pandas library\n",
    "- Evolved out of tables\n",
    "- Most suitable for data manipulation tasks  \n",
    "\n",
    "Pandas is built on top of numpy. The crucial difference between numpy matrices and pandas Dataframes is that the columns in a Dataframe can be of different datatypes such as numerical, categorical, textual, etc."
   ]
  },
  {
   "cell_type": "markdown",
   "metadata": {
    "_uuid": "95d24e2ea7b142959ac43a90527121be10d0a2a3"
   },
   "source": [
    "First, we load the Groundhog Day dataset [available here](https://www.kaggle.com/groundhogclub/groundhog-day/home)"
   ]
  },
  {
   "cell_type": "code",
   "execution_count": 40,
   "metadata": {
    "_uuid": "78d9dad96764bf649d5560c1ea1ddc6b605d7a2f"
   },
   "outputs": [],
   "source": [
    "df = pd.read_csv('archive.csv')"
   ]
  },
  {
   "cell_type": "markdown",
   "metadata": {
    "_uuid": "fc88b448e4c66cb07f80efddee0dca46d74669c5"
   },
   "source": [
    "The legend behind Groundhog Day tradition goes likes this:\n",
    "\n",
    "> Thousands gather at Gobbler’s Knob in Punxsutawney, Pennsylvania, on the second day of February to await the spring forecast from a groundhog known as Punxsutawney Phil. According to legend, if Phil sees his shadow the United States is in store for six more weeks of winter weather. But, if Phil doesn’t see his shadow, the country should expect warmer temperatures and the arrival of an early spring.\n",
    "\n",
    "[The dataset](https://www.kaggle.com/groundhogclub/groundhog-day/home) consists of the temperature records as well as the sightings of groundhog Phil."
   ]
  },
  {
   "cell_type": "code",
   "execution_count": null,
   "metadata": {
    "_uuid": "6c9abe81c3b8f82e34be27700cf97ed3bad6dc35"
   },
   "outputs": [],
   "source": [
    "# df"
   ]
  },
  {
   "cell_type": "markdown",
   "metadata": {
    "_uuid": "883d0cfb0aaf4a058023835f3bdbb2dc93374998"
   },
   "source": [
    "As it turns out to be rather big dataset to display, we can comment the above cell by adding `#` in front of `df` and run it again to get rid of the output. \n",
    "\n",
    "Next, let's check the numbers of rows and columns in the dataset."
   ]
  },
  {
   "cell_type": "code",
   "execution_count": null,
   "metadata": {
    "_uuid": "f0f6bbbc6657d80f970be67910e6e78dd4d12244"
   },
   "outputs": [],
   "source": [
    "df.shape"
   ]
  },
  {
   "cell_type": "markdown",
   "metadata": {
    "_uuid": "a524c2398967e6bd5da4a2ae61c1cf09216bac8f"
   },
   "source": [
    "So, the dataset consists of 132 rows and 10 columns. "
   ]
  },
  {
   "cell_type": "markdown",
   "metadata": {
    "_uuid": "e871ffe5bcba9ca72f4ef1b680218ffa6384b115"
   },
   "source": [
    "We use `head()` function to peek into the first 5 rows (or any number of rows by using `head(n)`). "
   ]
  },
  {
   "cell_type": "code",
   "execution_count": 41,
   "metadata": {
    "_uuid": "4da8cad5fd7d57c46e375ff2333743a61f7a1503"
   },
   "outputs": [
    {
     "data": {
      "text/html": [
       "<div>\n",
       "<style scoped>\n",
       "    .dataframe tbody tr th:only-of-type {\n",
       "        vertical-align: middle;\n",
       "    }\n",
       "\n",
       "    .dataframe tbody tr th {\n",
       "        vertical-align: top;\n",
       "    }\n",
       "\n",
       "    .dataframe thead th {\n",
       "        text-align: right;\n",
       "    }\n",
       "</style>\n",
       "<table border=\"1\" class=\"dataframe\">\n",
       "  <thead>\n",
       "    <tr style=\"text-align: right;\">\n",
       "      <th></th>\n",
       "      <th>Year</th>\n",
       "      <th>Punxsutawney Phil</th>\n",
       "      <th>February Average Temperature</th>\n",
       "      <th>February Average Temperature (Northeast)</th>\n",
       "      <th>February Average Temperature (Midwest)</th>\n",
       "      <th>February Average Temperature (Pennsylvania)</th>\n",
       "      <th>March Average Temperature</th>\n",
       "      <th>March Average Temperature (Northeast)</th>\n",
       "      <th>March Average Temperature (Midwest)</th>\n",
       "      <th>March Average Temperature (Pennsylvania)</th>\n",
       "    </tr>\n",
       "  </thead>\n",
       "  <tbody>\n",
       "    <tr>\n",
       "      <th>0</th>\n",
       "      <td>1886</td>\n",
       "      <td>No Record</td>\n",
       "      <td>NaN</td>\n",
       "      <td>NaN</td>\n",
       "      <td>NaN</td>\n",
       "      <td>NaN</td>\n",
       "      <td>NaN</td>\n",
       "      <td>NaN</td>\n",
       "      <td>NaN</td>\n",
       "      <td>NaN</td>\n",
       "    </tr>\n",
       "    <tr>\n",
       "      <th>1</th>\n",
       "      <td>1887</td>\n",
       "      <td>Full Shadow</td>\n",
       "      <td>NaN</td>\n",
       "      <td>NaN</td>\n",
       "      <td>NaN</td>\n",
       "      <td>NaN</td>\n",
       "      <td>NaN</td>\n",
       "      <td>NaN</td>\n",
       "      <td>NaN</td>\n",
       "      <td>NaN</td>\n",
       "    </tr>\n",
       "    <tr>\n",
       "      <th>2</th>\n",
       "      <td>1888</td>\n",
       "      <td>Full Shadow</td>\n",
       "      <td>NaN</td>\n",
       "      <td>NaN</td>\n",
       "      <td>NaN</td>\n",
       "      <td>NaN</td>\n",
       "      <td>NaN</td>\n",
       "      <td>NaN</td>\n",
       "      <td>NaN</td>\n",
       "      <td>NaN</td>\n",
       "    </tr>\n",
       "    <tr>\n",
       "      <th>3</th>\n",
       "      <td>1889</td>\n",
       "      <td>No Record</td>\n",
       "      <td>NaN</td>\n",
       "      <td>NaN</td>\n",
       "      <td>NaN</td>\n",
       "      <td>NaN</td>\n",
       "      <td>NaN</td>\n",
       "      <td>NaN</td>\n",
       "      <td>NaN</td>\n",
       "      <td>NaN</td>\n",
       "    </tr>\n",
       "    <tr>\n",
       "      <th>4</th>\n",
       "      <td>1890</td>\n",
       "      <td>No Shadow</td>\n",
       "      <td>NaN</td>\n",
       "      <td>NaN</td>\n",
       "      <td>NaN</td>\n",
       "      <td>NaN</td>\n",
       "      <td>NaN</td>\n",
       "      <td>NaN</td>\n",
       "      <td>NaN</td>\n",
       "      <td>NaN</td>\n",
       "    </tr>\n",
       "  </tbody>\n",
       "</table>\n",
       "</div>"
      ],
      "text/plain": [
       "   Year Punxsutawney Phil  February Average Temperature  \\\n",
       "0  1886         No Record                           NaN   \n",
       "1  1887       Full Shadow                           NaN   \n",
       "2  1888       Full Shadow                           NaN   \n",
       "3  1889         No Record                           NaN   \n",
       "4  1890         No Shadow                           NaN   \n",
       "\n",
       "   February Average Temperature (Northeast)  \\\n",
       "0                                       NaN   \n",
       "1                                       NaN   \n",
       "2                                       NaN   \n",
       "3                                       NaN   \n",
       "4                                       NaN   \n",
       "\n",
       "   February Average Temperature (Midwest)  \\\n",
       "0                                     NaN   \n",
       "1                                     NaN   \n",
       "2                                     NaN   \n",
       "3                                     NaN   \n",
       "4                                     NaN   \n",
       "\n",
       "   February Average Temperature (Pennsylvania)  March Average Temperature  \\\n",
       "0                                          NaN                        NaN   \n",
       "1                                          NaN                        NaN   \n",
       "2                                          NaN                        NaN   \n",
       "3                                          NaN                        NaN   \n",
       "4                                          NaN                        NaN   \n",
       "\n",
       "   March Average Temperature (Northeast)  March Average Temperature (Midwest)  \\\n",
       "0                                    NaN                                  NaN   \n",
       "1                                    NaN                                  NaN   \n",
       "2                                    NaN                                  NaN   \n",
       "3                                    NaN                                  NaN   \n",
       "4                                    NaN                                  NaN   \n",
       "\n",
       "   March Average Temperature (Pennsylvania)  \n",
       "0                                       NaN  \n",
       "1                                       NaN  \n",
       "2                                       NaN  \n",
       "3                                       NaN  \n",
       "4                                       NaN  "
      ]
     },
     "execution_count": 41,
     "metadata": {},
     "output_type": "execute_result"
    }
   ],
   "source": [
    "df.head()"
   ]
  },
  {
   "cell_type": "markdown",
   "metadata": {
    "_uuid": "d483734135974038f60f6abffd0099dc2e4f5b2b"
   },
   "source": [
    "This has not been particularly useful since the records for the first few years are missing. Find the built-in function to display **the last 10 rows** from the DataFrame and use it below:"
   ]
  },
  {
   "cell_type": "code",
   "execution_count": null,
   "metadata": {
    "_uuid": "88809d1d50ac6eec7c85df5f465138a0f818af08"
   },
   "outputs": [],
   "source": [
    "# df.tail(10)"
   ]
  },
  {
   "cell_type": "markdown",
   "metadata": {
    "_uuid": "2be76402b2ad607f12f4cfedf8c6b33f92310d62"
   },
   "source": [
    "Let's see the columns in the DataFrame. "
   ]
  },
  {
   "cell_type": "code",
   "execution_count": null,
   "metadata": {
    "_uuid": "ef71fa018209cb776c5cb03c646358c6d6be36b0"
   },
   "outputs": [],
   "source": [
    "df.columns"
   ]
  },
  {
   "cell_type": "markdown",
   "metadata": {
    "_uuid": "224e8ecd8297f5786e952a0463ec827220c2f33f"
   },
   "source": [
    "### Selecting rows and columns from the dataframe\n",
    "\n",
    "Let's say we want to see only the columns related to the groundhog Phil sighting as well as the average temperatures in Febrauary in Pennsylvania and get rid of the rest of the columns. This can be accomplished using double brackets:"
   ]
  },
  {
   "cell_type": "code",
   "execution_count": null,
   "metadata": {
    "_uuid": "09bac16c42c3f21951a68a669268f71a22ea6257"
   },
   "outputs": [],
   "source": [
    "df[['Punxsutawney Phil', 'February Average Temperature (Pennsylvania)']].head()"
   ]
  },
  {
   "cell_type": "markdown",
   "metadata": {
    "_uuid": "5595a8f67768e8891c5714b51f7d685bb082ac8d"
   },
   "source": [
    "Since we do not want all the rows in the output, we have used `head()` function at the end. "
   ]
  },
  {
   "cell_type": "markdown",
   "metadata": {
    "_uuid": "527fbba08df74d7b5fb7d7cb363d224018841c85"
   },
   "source": [
    "We can also select rows based on conditions. Let's say, we want to observe only those years when there is no record for groundhog. Hint: Use `df['Punxsutawney Phil'] == \"No Record\"` in the conditional."
   ]
  },
  {
   "cell_type": "code",
   "execution_count": null,
   "metadata": {
    "_uuid": "d78c7598730416a23b100e9c111e62b1ee081f6c"
   },
   "outputs": [],
   "source": [
    "df[df[\"Punxsutawney Phil\"]==\"No Record\"]"
   ]
  },
  {
   "cell_type": "markdown",
   "metadata": {
    "_uuid": "34a853317aacc52002447f974d25712be8793190"
   },
   "source": [
    "Now, we want to restrict the above output further *to exclude the entries before the year 1895*.   \n",
    "Hint: Add another conditional to the above code using `&` and make sure to wrap the two conditionals with parenthesis.   "
   ]
  },
  {
   "cell_type": "code",
   "execution_count": null,
   "metadata": {
    "_uuid": "ffdd7fb36cbb9be98bf465d8053ecc0694462143"
   },
   "outputs": [],
   "source": [
    "# df[(df[\"Punxsutawney Phil\"]==\"No Record\") & (df[\"Year\"] >= '1895')]"
   ]
  },
  {
   "cell_type": "markdown",
   "metadata": {
    "_uuid": "e4c60e366526d0070057a6d0d2f8c12ee90ace35"
   },
   "source": [
    "We can also get the number of years with no records using the `shape` attribute which gives us both the number of columns and the number of rows. Write the code to count the number of years that the groundhog saw his full shadow."
   ]
  },
  {
   "cell_type": "code",
   "execution_count": null,
   "metadata": {
    "_uuid": "b9a2af5c7ca585efad6024d6f7ddf76b296218af"
   },
   "outputs": [],
   "source": [
    "df[(df[\"Punxsutawney Phil\"]==\"Full Shadow\")].shape[0]"
   ]
  },
  {
   "cell_type": "markdown",
   "metadata": {
    "_uuid": "7d7a99e1fdbaf56c7d5a0985f5fc12b7bf08a129"
   },
   "source": [
    "Write the code to count the number of years in which the groundhog Phil saw its full shadow and the February Average Temperature in Pennsylvania was less than 26.5."
   ]
  },
  {
   "cell_type": "code",
   "execution_count": null,
   "metadata": {
    "_uuid": "e5f1f324b6b6e563df27f94b2f7d5fd8d379172f"
   },
   "outputs": [],
   "source": [
    "# df[(df[\"Punxsutawney Phil\"]==\"Full Shadow\") & (df['February Average Temperature (Pennsylvania)'] < 26.5)].shape[0]"
   ]
  },
  {
   "cell_type": "markdown",
   "metadata": {
    "_uuid": "3f630b87d3807bd057c29096fa5e250c97b08c38"
   },
   "source": [
    "Write the code to count the number of years in which the groundhog Phil saw its full shadow and the February Average Temperature in Pennsylvania was less than February Average Temperature in that year."
   ]
  },
  {
   "cell_type": "code",
   "execution_count": null,
   "metadata": {
    "_uuid": "0e31cf4ce9e6aa7c4fb4cc45259c2417f8ad8e16"
   },
   "outputs": [],
   "source": [
    "# df[(df[\"Punxsutawney Phil\"]==\"Full Shadow\") & \n",
    "#    (df['February Average Temperature (Pennsylvania)'] < df['February Average Temperature'])].shape[0]"
   ]
  },
  {
   "cell_type": "markdown",
   "metadata": {
    "_uuid": "0639a0a8e5c52dd71c0343073e4ae3117837fbcb"
   },
   "source": [
    "Is it common for Pennsylvania to have temperatures colder than average? Write down the code for counting the years when February Average Temperature in Pennsylvania is less than February Average Temperature in general.  \n",
    "Hint: This requires only one condition and that can be achieved from removing one of the condition from the last code cell."
   ]
  },
  {
   "cell_type": "code",
   "execution_count": null,
   "metadata": {
    "_uuid": "28099d8a3052c3307efeec73ec332e07c8af6c23"
   },
   "outputs": [],
   "source": [
    "# df[(df['February Average Temperature (Pennsylvania)'] < df['February Average Temperature'])].shape[0]"
   ]
  },
  {
   "cell_type": "markdown",
   "metadata": {
    "_uuid": "34208aa33037e19f456f3a5501c8328a2af08d3f"
   },
   "source": [
    "Please feel free to explore the data on your own later. You can also design a hypothesis and test it using `scipy.stats`. "
   ]
  },
  {
   "cell_type": "markdown",
   "metadata": {
    "_uuid": "1225b11d7fecc990757fea9cecaa171140b87374"
   },
   "source": [
    "### The `loc` and `iloc` methods"
   ]
  },
  {
   "cell_type": "markdown",
   "metadata": {
    "_uuid": "14494dd0252de06735640bf20d1120c1c50d9f87"
   },
   "source": [
    "So far, we have seen how to retrieve either some select columns or certain rows based on conditionals. What if we want to slice off a portion of the dataframe with some specific rows and columns? We use `.loc[]` or `.iloc[]` methods for this purpose. \n",
    "* `.iloc[]` method is primarily integer position based and gets rows/columns at particular positions in the index (so it only takes integers). \n",
    "* `loc[]` method is label based and gets rows/columns with particular labels from the index. "
   ]
  },
  {
   "cell_type": "code",
   "execution_count": 42,
   "metadata": {
    "_uuid": "b8886c91486a8c747f15689fcb0ddc5775c6882b"
   },
   "outputs": [
    {
     "data": {
      "text/html": [
       "<div>\n",
       "<style scoped>\n",
       "    .dataframe tbody tr th:only-of-type {\n",
       "        vertical-align: middle;\n",
       "    }\n",
       "\n",
       "    .dataframe tbody tr th {\n",
       "        vertical-align: top;\n",
       "    }\n",
       "\n",
       "    .dataframe thead th {\n",
       "        text-align: right;\n",
       "    }\n",
       "</style>\n",
       "<table border=\"1\" class=\"dataframe\">\n",
       "  <thead>\n",
       "    <tr style=\"text-align: right;\">\n",
       "      <th></th>\n",
       "      <th>Year</th>\n",
       "      <th>Punxsutawney Phil</th>\n",
       "    </tr>\n",
       "  </thead>\n",
       "  <tbody>\n",
       "    <tr>\n",
       "      <th>0</th>\n",
       "      <td>1886</td>\n",
       "      <td>No Record</td>\n",
       "    </tr>\n",
       "    <tr>\n",
       "      <th>1</th>\n",
       "      <td>1887</td>\n",
       "      <td>Full Shadow</td>\n",
       "    </tr>\n",
       "    <tr>\n",
       "      <th>2</th>\n",
       "      <td>1888</td>\n",
       "      <td>Full Shadow</td>\n",
       "    </tr>\n",
       "    <tr>\n",
       "      <th>3</th>\n",
       "      <td>1889</td>\n",
       "      <td>No Record</td>\n",
       "    </tr>\n",
       "  </tbody>\n",
       "</table>\n",
       "</div>"
      ],
      "text/plain": [
       "   Year Punxsutawney Phil\n",
       "0  1886         No Record\n",
       "1  1887       Full Shadow\n",
       "2  1888       Full Shadow\n",
       "3  1889         No Record"
      ]
     },
     "execution_count": 42,
     "metadata": {},
     "output_type": "execute_result"
    }
   ],
   "source": [
    "df.loc[:3, ['Year', 'Punxsutawney Phil']]"
   ]
  },
  {
   "cell_type": "code",
   "execution_count": 48,
   "metadata": {
    "_uuid": "b8886c91486a8c747f15689fcb0ddc5775c6882b"
   },
   "outputs": [],
   "source": [
    "df.iloc[:3, ['Year', 'Punxsutawney Phil']] # This will give an error\n",
    "# Comment the above line of code and uncomment the below one\n",
    "# df.iloc[:3, [0, 1]] "
   ]
  },
  {
   "cell_type": "markdown",
   "metadata": {
    "_uuid": "d7e0e15d8999f0d4693e8a642c92b8ff15723943"
   },
   "source": [
    " Just like Python lists, the indexing in pandas start from 0. To get the **11th row**, we use `df.iloc[10]` as below."
   ]
  },
  {
   "cell_type": "code",
   "execution_count": 28,
   "metadata": {
    "_uuid": "465db7be4d7f0dea320862cf945673871f106407"
   },
   "outputs": [
    {
     "data": {
      "text/plain": [
       "Year                                                1896\n",
       "Punxsutawney Phil                              No Record\n",
       "February Average Temperature                       35.04\n",
       "February Average Temperature (Northeast)            22.2\n",
       "February Average Temperature (Midwest)              33.5\n",
       "February Average Temperature (Pennsylvania)         26.6\n",
       "March Average Temperature                          38.03\n",
       "March Average Temperature (Northeast)               25.3\n",
       "March Average Temperature (Midwest)                 36.9\n",
       "March Average Temperature (Pennsylvania)            27.8\n",
       "Name: 10, dtype: object"
      ]
     },
     "execution_count": 28,
     "metadata": {},
     "output_type": "execute_result"
    }
   ],
   "source": [
    "df.iloc[10]"
   ]
  },
  {
   "cell_type": "markdown",
   "metadata": {
    "_uuid": "4c4cda1cec7ba7257b54edf979789b75257e6d62"
   },
   "source": [
    "The `.iloc[]` method can slice any collection of rows, not necessarily consecutive. For example, we can slice data corresponding to every tenth year."
   ]
  },
  {
   "cell_type": "code",
   "execution_count": null,
   "metadata": {
    "_uuid": "62abba628df3f92fffbd83b932f7f811c3df8f67"
   },
   "outputs": [],
   "source": [
    "df.iloc[0:len(df):10]"
   ]
  },
  {
   "cell_type": "markdown",
   "metadata": {
    "_uuid": "7a32bf17ce9fa1e531f60ac1aa8104ceab3580be"
   },
   "source": [
    "For convenience, we want to work with a subset of dataset, say the most recent 20 years of data. Complete the code below using `.iloc[]` method to give the last 20 entries of the dataset. "
   ]
  },
  {
   "cell_type": "code",
   "execution_count": null,
   "metadata": {
    "_uuid": "cbd4ee4c5d885bece376e39be38ccfb047d5084b"
   },
   "outputs": [],
   "source": [
    "# df.iloc[-20:]"
   ]
  },
  {
   "cell_type": "markdown",
   "metadata": {
    "_uuid": "d8e179790f56905460e037fb82297afe184a8ee4"
   },
   "source": [
    "Use the `.loc[]` method to find out whether groundhog Phil casted full shadow or not in the year 2000. Hint: Use conditional for the row index."
   ]
  },
  {
   "cell_type": "code",
   "execution_count": 38,
   "metadata": {
    "_uuid": "47d9e94294bdc1f45a21c15966b2ca5639580911"
   },
   "outputs": [
    {
     "data": {
      "text/plain": [
       "114    Full Shadow\n",
       "Name: Punxsutawney Phil, dtype: object"
      ]
     },
     "execution_count": 38,
     "metadata": {},
     "output_type": "execute_result"
    }
   ],
   "source": [
    "df.loc[df['Year']=='2000', 'Punxsutawney Phil']"
   ]
  },
  {
   "cell_type": "markdown",
   "metadata": {},
   "source": [
    "Could you use `iloc` with the conditional above? Check it out!"
   ]
  },
  {
   "cell_type": "markdown",
   "metadata": {},
   "source": [
    "### Next step\n",
    "Please continue on to the hands-on exercise. You are encouraged to work in groups of 2-4 for the exercise session. Please ask for help from the instructor and TAs."
   ]
  },
  {
   "cell_type": "markdown",
   "metadata": {},
   "source": [
    "### Acknowledgment:\n",
    "* [Groundhog Day Forecasts and Temperatures](https://www.kaggle.com/groundhogclub/groundhog-day/home) dataset openly available in Kaggle is used for illustration.\n",
    "\n"
   ]
  },
  {
   "cell_type": "code",
   "execution_count": null,
   "metadata": {},
   "outputs": [],
   "source": []
  }
 ],
 "metadata": {
  "kernelspec": {
   "display_name": "Python 3",
   "language": "python",
   "name": "python3"
  },
  "language_info": {
   "codemirror_mode": {
    "name": "ipython",
    "version": 3
   },
   "file_extension": ".py",
   "mimetype": "text/x-python",
   "name": "python",
   "nbconvert_exporter": "python",
   "pygments_lexer": "ipython3",
   "version": "3.6.8"
  }
 },
 "nbformat": 4,
 "nbformat_minor": 1
}
