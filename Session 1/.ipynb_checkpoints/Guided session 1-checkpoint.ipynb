{
 "cells": [
  {
   "cell_type": "markdown",
   "metadata": {},
   "source": [
    "### Guided session 1\n",
    "\n",
    "Let us first import the python module `pandas`."
   ]
  },
  {
   "cell_type": "code",
   "execution_count": 1,
   "metadata": {
    "_uuid": "c43d8259ee0ef9187d24be07a98a0cddbedc7208"
   },
   "outputs": [],
   "source": [
    "import pandas as pd"
   ]
  },
  {
   "cell_type": "markdown",
   "metadata": {
    "_uuid": "c54fffcee8c9b8f16a4af54165a7027efda033dd"
   },
   "source": [
    "Pandas: an excellent tool to work with datasets\n",
    "\n",
    "Dataframes: the central data structure of pandas library\n",
    "- Evolved out of tables\n",
    "- Most suitable for data manipulation tasks  \n",
    "\n",
    "Pandas is built on top of numpy. The crucial difference between numpy matrices and pandas Dataframes is that the columns in a Dataframe can be of different datatypes such as numerical, categorical, textual, etc."
   ]
  },
  {
   "cell_type": "markdown",
   "metadata": {
    "_uuid": "95d24e2ea7b142959ac43a90527121be10d0a2a3"
   },
   "source": [
    "First, we load the Groundhog Day dataset [available here](https://www.kaggle.com/groundhogclub/groundhog-day/home)"
   ]
  },
  {
   "cell_type": "code",
   "execution_count": 3,
   "metadata": {
    "_uuid": "78d9dad96764bf649d5560c1ea1ddc6b605d7a2f"
   },
   "outputs": [],
   "source": [
    "df = pd.read_csv('archive.csv')"
   ]
  },
  {
   "cell_type": "markdown",
   "metadata": {
    "_uuid": "fc88b448e4c66cb07f80efddee0dca46d74669c5"
   },
   "source": [
    "The legend behind Groundhog Day tradition goes likes this:\n",
    "\n",
    "> Thousands gather at Gobbler’s Knob in Punxsutawney, Pennsylvania, on the second day of February to await the spring forecast from a groundhog known as Punxsutawney Phil. According to legend, if Phil sees his shadow the United States is in store for six more weeks of winter weather. But, if Phil doesn’t see his shadow, the country should expect warmer temperatures and the arrival of an early spring.\n",
    "\n",
    "[The dataset](https://www.kaggle.com/groundhogclub/groundhog-day/home) consists of the temperature records as well as the sightings of groundhog Phil."
   ]
  },
  {
   "cell_type": "code",
   "execution_count": null,
   "metadata": {
    "_uuid": "6c9abe81c3b8f82e34be27700cf97ed3bad6dc35"
   },
   "outputs": [],
   "source": [
    "# df"
   ]
  },
  {
   "cell_type": "markdown",
   "metadata": {
    "_uuid": "883d0cfb0aaf4a058023835f3bdbb2dc93374998"
   },
   "source": [
    "As it turns out to be rather big dataset to display, we can comment the above cell by adding `#` in front of `df` and run it again to get rid of the output. \n",
    "\n",
    "Next, let's check the numbers of rows and columns in the dataset."
   ]
  },
  {
   "cell_type": "code",
   "execution_count": null,
   "metadata": {
    "_uuid": "f0f6bbbc6657d80f970be67910e6e78dd4d12244"
   },
   "outputs": [],
   "source": [
    "df.shape"
   ]
  },
  {
   "cell_type": "markdown",
   "metadata": {
    "_uuid": "a524c2398967e6bd5da4a2ae61c1cf09216bac8f"
   },
   "source": [
    "So, the dataset consists of 132 rows and 10 columns. "
   ]
  },
  {
   "cell_type": "markdown",
   "metadata": {
    "_uuid": "e871ffe5bcba9ca72f4ef1b680218ffa6384b115"
   },
   "source": [
    "We use `head()` function to peek into the first 5 rows (or any number of rows by using `head(n)`). "
   ]
  },
  {
   "cell_type": "code",
   "execution_count": null,
   "metadata": {
    "_uuid": "4da8cad5fd7d57c46e375ff2333743a61f7a1503"
   },
   "outputs": [],
   "source": [
    "df.head()"
   ]
  },
  {
   "cell_type": "markdown",
   "metadata": {
    "_uuid": "d483734135974038f60f6abffd0099dc2e4f5b2b"
   },
   "source": [
    "This has not been particularly useful since the records for the first few years are missing. Find the built-in function to display **the last 10 rows** from the DataFrame and use it below:"
   ]
  },
  {
   "cell_type": "code",
   "execution_count": null,
   "metadata": {
    "_uuid": "88809d1d50ac6eec7c85df5f465138a0f818af08"
   },
   "outputs": [],
   "source": [
    "# df.tail(10)"
   ]
  },
  {
   "cell_type": "markdown",
   "metadata": {
    "_uuid": "2be76402b2ad607f12f4cfedf8c6b33f92310d62"
   },
   "source": [
    "Let's see the columns in the DataFrame. "
   ]
  },
  {
   "cell_type": "code",
   "execution_count": null,
   "metadata": {
    "_uuid": "ef71fa018209cb776c5cb03c646358c6d6be36b0"
   },
   "outputs": [],
   "source": [
    "df.columns"
   ]
  },
  {
   "cell_type": "markdown",
   "metadata": {
    "_uuid": "224e8ecd8297f5786e952a0463ec827220c2f33f"
   },
   "source": [
    "Let's say we want to see only the columns related to the groundhog Phil sighting as well as the average temperatures in Febrauary in Pennsylvania and get rid of the rest of the columns. This can be accomplished using double brackets:"
   ]
  },
  {
   "cell_type": "code",
   "execution_count": null,
   "metadata": {
    "_uuid": "09bac16c42c3f21951a68a669268f71a22ea6257"
   },
   "outputs": [],
   "source": [
    "df[['Punxsutawney Phil', 'February Average Temperature (Pennsylvania)']].head()"
   ]
  },
  {
   "cell_type": "markdown",
   "metadata": {
    "_uuid": "5595a8f67768e8891c5714b51f7d685bb082ac8d"
   },
   "source": [
    "Since we do not want all the rows in the output, we have used `head()` function at the end. "
   ]
  },
  {
   "cell_type": "markdown",
   "metadata": {
    "_uuid": "527fbba08df74d7b5fb7d7cb363d224018841c85"
   },
   "source": [
    "We can also select rows based on conditions. Let's say, we want to observe only those years when there is no record for groundhog. Hint: Use `df['Punxsutawney Phil'] == \"No Record\"` in the conditional."
   ]
  },
  {
   "cell_type": "code",
   "execution_count": null,
   "metadata": {
    "_uuid": "d78c7598730416a23b100e9c111e62b1ee081f6c"
   },
   "outputs": [],
   "source": [
    "df[df[\"Punxsutawney Phil\"]==\"No Record\"]"
   ]
  },
  {
   "cell_type": "markdown",
   "metadata": {
    "_uuid": "34a853317aacc52002447f974d25712be8793190"
   },
   "source": [
    "Now, we want to restrict the above output further *to exclude the entries before the year 1895*.   \n",
    "Hint: Add another conditional to the above code using `&` and make sure to wrap the two conditionals with parenthesis.   "
   ]
  },
  {
   "cell_type": "code",
   "execution_count": null,
   "metadata": {
    "_uuid": "ffdd7fb36cbb9be98bf465d8053ecc0694462143"
   },
   "outputs": [],
   "source": [
    "# df[(df[\"Punxsutawney Phil\"]==\"No Record\") & (df[\"Year\"] >= '1895')]"
   ]
  },
  {
   "cell_type": "markdown",
   "metadata": {
    "_uuid": "e4c60e366526d0070057a6d0d2f8c12ee90ace35"
   },
   "source": [
    "We can also get the number of years with no records using the `shape` attribute which gives us both the number of columns and the number of rows. Write the code to count the number of years that the groundhog saw his full shadow."
   ]
  },
  {
   "cell_type": "code",
   "execution_count": null,
   "metadata": {
    "_uuid": "b9a2af5c7ca585efad6024d6f7ddf76b296218af"
   },
   "outputs": [],
   "source": [
    "df[(df[\"Punxsutawney Phil\"]==\"Full Shadow\")].shape[0]"
   ]
  },
  {
   "cell_type": "markdown",
   "metadata": {
    "_uuid": "7d7a99e1fdbaf56c7d5a0985f5fc12b7bf08a129"
   },
   "source": [
    "Write the code to count the number of years in which the groundhog Phil saw its full shadow and the February Average Temperature in Pennsylvania was less than 26.5."
   ]
  },
  {
   "cell_type": "code",
   "execution_count": null,
   "metadata": {
    "_uuid": "e5f1f324b6b6e563df27f94b2f7d5fd8d379172f"
   },
   "outputs": [],
   "source": [
    "# df[(df[\"Punxsutawney Phil\"]==\"Full Shadow\") & (df['February Average Temperature (Pennsylvania)'] < 26.5)].shape[0]"
   ]
  },
  {
   "cell_type": "markdown",
   "metadata": {
    "_uuid": "3f630b87d3807bd057c29096fa5e250c97b08c38"
   },
   "source": [
    "Write the code to count the number of years in which the groundhog Phil saw its full shadow and the February Average Temperature in Pennsylvania was less than February Average Temperature in that year."
   ]
  },
  {
   "cell_type": "code",
   "execution_count": null,
   "metadata": {
    "_uuid": "0e31cf4ce9e6aa7c4fb4cc45259c2417f8ad8e16"
   },
   "outputs": [],
   "source": [
    "# df[(df[\"Punxsutawney Phil\"]==\"Full Shadow\") & \n",
    "#    (df['February Average Temperature (Pennsylvania)'] < df['February Average Temperature'])].shape[0]"
   ]
  },
  {
   "cell_type": "markdown",
   "metadata": {
    "_uuid": "0639a0a8e5c52dd71c0343073e4ae3117837fbcb"
   },
   "source": [
    "Is it common for Pennsylvania to have temperatures colder than average? Write down the code for counting the years when February Average Temperature in Pennsylvania is less than February Average Temperature in general.  \n",
    "Hint: This requires only one condition and that can be achieved from removing one of the condition from the last code cell."
   ]
  },
  {
   "cell_type": "code",
   "execution_count": null,
   "metadata": {
    "_uuid": "28099d8a3052c3307efeec73ec332e07c8af6c23"
   },
   "outputs": [],
   "source": [
    "# df[(df['February Average Temperature (Pennsylvania)'] < df['February Average Temperature'])].shape[0]"
   ]
  },
  {
   "cell_type": "markdown",
   "metadata": {
    "_uuid": "34208aa33037e19f456f3a5501c8328a2af08d3f"
   },
   "source": [
    "Please feel free to explore the data on your own later. You can also design a hypothesis and test it using `scipy.stats`. "
   ]
  },
  {
   "cell_type": "markdown",
   "metadata": {
    "_uuid": "1225b11d7fecc990757fea9cecaa171140b87374"
   },
   "source": [
    "### Differences between loc vs iloc (optional)"
   ]
  },
  {
   "cell_type": "markdown",
   "metadata": {
    "_uuid": "14494dd0252de06735640bf20d1120c1c50d9f87"
   },
   "source": [
    "Now, instead of columns, how do we select a few rows of our choice? We can use `.loc[]` or `.iloc[]` methods to slice subsets of the DataFrame. The `.iloc[]` method is primarily integer position based whereas `loc[]` is label based as demonstrated below. "
   ]
  },
  {
   "cell_type": "markdown",
   "metadata": {
    "_uuid": "d7e0e15d8999f0d4693e8a642c92b8ff15723943"
   },
   "source": [
    " Just like Python lists, the indexing in pandas start from 0. To get the **11th row**, we use `df.iloc[10]` as below."
   ]
  },
  {
   "cell_type": "code",
   "execution_count": null,
   "metadata": {
    "_uuid": "465db7be4d7f0dea320862cf945673871f106407"
   },
   "outputs": [],
   "source": [
    "df.iloc[10]"
   ]
  },
  {
   "cell_type": "markdown",
   "metadata": {
    "_uuid": "4ab42a7957a124bbe1381e6f73b6a2785575ce54"
   },
   "source": [
    "Note that we changed the index above to be the year of the observation. "
   ]
  },
  {
   "cell_type": "code",
   "execution_count": null,
   "metadata": {
    "_uuid": "6c389052849830ed166ab60626b01150bdbc5bbb"
   },
   "outputs": [],
   "source": [
    "df.index"
   ]
  },
  {
   "cell_type": "markdown",
   "metadata": {
    "_uuid": "f02799b08a2a49455dc2368d657eb5a574d2e6a1"
   },
   "source": [
    "The `Name: 1896` in the above output for `df.iloc[10]` gives us the label of the index for 11th row. So, we can use `.loc[]` method with this label."
   ]
  },
  {
   "cell_type": "code",
   "execution_count": null,
   "metadata": {
    "_uuid": "81f73d57153c01992b4e4a1fd344222b17b2c370"
   },
   "outputs": [],
   "source": [
    "df.loc['1896']"
   ]
  },
  {
   "cell_type": "markdown",
   "metadata": {
    "_uuid": "4c4cda1cec7ba7257b54edf979789b75257e6d62"
   },
   "source": [
    "We can use `.iloc[]` method to slice a collection of rows, just like in python lists or `numpy` arrays. We slice data corresponding to every tenth year."
   ]
  },
  {
   "cell_type": "code",
   "execution_count": null,
   "metadata": {
    "_uuid": "62abba628df3f92fffbd83b932f7f811c3df8f67"
   },
   "outputs": [],
   "source": [
    "df.iloc[0:len(df):10]"
   ]
  },
  {
   "cell_type": "markdown",
   "metadata": {
    "_uuid": "7a32bf17ce9fa1e531f60ac1aa8104ceab3580be"
   },
   "source": [
    "For convenience, we want to work with a subset of dataset, say the most recent 20 years of data. Complete the code . below using `.iloc[]` method to give the last 20 entries of the dataset. "
   ]
  },
  {
   "cell_type": "code",
   "execution_count": null,
   "metadata": {
    "_uuid": "cbd4ee4c5d885bece376e39be38ccfb047d5084b"
   },
   "outputs": [],
   "source": [
    "df.iloc[-20:]"
   ]
  },
  {
   "cell_type": "markdown",
   "metadata": {
    "_uuid": "d8e179790f56905460e037fb82297afe184a8ee4"
   },
   "source": [
    "The `.loc[]` method allows us to select a particular element. We use it to get the February Average Temperature in Pennsylvania for the entire century 1901-2000 as below. "
   ]
  },
  {
   "cell_type": "code",
   "execution_count": null,
   "metadata": {
    "_uuid": "47d9e94294bdc1f45a21c15966b2ca5639580911"
   },
   "outputs": [],
   "source": [
    "df.loc['1901-2000', 'February Average Temperature (Pennsylvania)']"
   ]
  },
  {
   "cell_type": "markdown",
   "metadata": {
    "_uuid": "38b53d41895b632f7cfb9329d114e2139dec51cd"
   },
   "source": [
    "Let us make the year column to be the index of the DataFrame:"
   ]
  },
  {
   "cell_type": "code",
   "execution_count": null,
   "metadata": {
    "_uuid": "1d3ddb217a6dc5ae99e1e9137e76f6e58520f177"
   },
   "outputs": [],
   "source": [
    "df = df.set_index('Year')"
   ]
  },
  {
   "cell_type": "code",
   "execution_count": null,
   "metadata": {
    "_uuid": "b8886c91486a8c747f15689fcb0ddc5775c6882b"
   },
   "outputs": [],
   "source": []
  },
  {
   "cell_type": "code",
   "execution_count": null,
   "metadata": {
    "_uuid": "18497c9e4527f64854b2d35844cbff6960260599"
   },
   "outputs": [],
   "source": []
  },
  {
   "cell_type": "code",
   "execution_count": null,
   "metadata": {
    "_uuid": "269d32b709b4420663c3e8fd36b1144adfd9827d"
   },
   "outputs": [],
   "source": []
  },
  {
   "cell_type": "code",
   "execution_count": null,
   "metadata": {
    "_uuid": "50397f48dca33854b5167ddf2b62c1d1ba5da15a"
   },
   "outputs": [],
   "source": []
  },
  {
   "cell_type": "code",
   "execution_count": null,
   "metadata": {},
   "outputs": [],
   "source": []
  }
 ],
 "metadata": {
  "kernelspec": {
   "display_name": "Python 3",
   "language": "python",
   "name": "python3"
  },
  "language_info": {
   "codemirror_mode": {
    "name": "ipython",
    "version": 3
   },
   "file_extension": ".py",
   "mimetype": "text/x-python",
   "name": "python",
   "nbconvert_exporter": "python",
   "pygments_lexer": "ipython3",
   "version": "3.6.8"
  }
 },
 "nbformat": 4,
 "nbformat_minor": 1
}
