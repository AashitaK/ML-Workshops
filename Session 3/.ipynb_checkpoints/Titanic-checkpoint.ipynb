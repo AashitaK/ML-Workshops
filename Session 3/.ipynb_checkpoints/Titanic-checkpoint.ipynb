{
 "cells": [
  {
   "cell_type": "markdown",
   "metadata": {},
   "source": [
    "## Exercise 3"
   ]
  },
  {
   "cell_type": "markdown",
   "metadata": {},
   "source": [
    "First we import python modules:"
   ]
  },
  {
   "cell_type": "code",
   "execution_count": 4,
   "metadata": {},
   "outputs": [],
   "source": [
    "import pandas as pd\n",
    "import numpy as np\n",
    "import re\n",
    "\n",
    "import matplotlib.pyplot as plt\n",
    "import seaborn as sns\n",
    "%matplotlib inline\n",
    "\n",
    "from sklearn.model_selection import train_test_split\n",
    "from sklearn.linear_model import LogisticRegression\n",
    "from sklearn.tree import DecisionTreeClassifier\n",
    "from sklearn.neighbors import KNeighborsClassifier\n",
    "from sklearn.svm import SVC\n",
    "from sklearn.ensemble import RandomForestClassifier\n",
    "\n",
    "import warnings\n",
    "warnings.simplefilter('ignore')"
   ]
  },
  {
   "cell_type": "code",
   "execution_count": 5,
   "metadata": {},
   "outputs": [],
   "source": [
    "path = 'titanic/'\n",
    "df = pd.read_csv(path + 'train.csv')\n",
    "train = pd.read_csv(path + 'train.csv')\n",
    "target = train.Survived.astype('category', ordered=False)\n",
    "train.drop('Survived', axis=1)\n",
    "\n",
    "test = pd.read_csv(path + 'test.csv')\n",
    "PassengerId = test.PassengerId\n",
    "\n",
    "def get_Titles(df):\n",
    "    df.Name = df.Name.apply(lambda name: re.findall(\"\\s\\S+[.]\\s\", name)[0].strip())\n",
    "    df = df.rename(columns = {'Name': 'Title'})\n",
    "    df.Title.replace({'Ms.': 'Miss.', 'Mlle.': 'Miss.', 'Dr.': 'Rare', 'Mme.': 'Mr.', 'Major.': 'Rare', 'Lady.': 'Rare', 'Sir.': 'Rare', 'Col.': 'Rare', 'Capt.': 'Rare', 'Countess.': 'Rare', 'Jonkheer.': 'Rare', 'Dona.': 'Rare', 'Don.': 'Rare', 'Rev.': 'Rare'}, inplace=True)\n",
    "    return df\n",
    "\n",
    "def fill_Age(df):\n",
    "    df.Age = df.Age.fillna(df.groupby(\"Title\").Age.transform(\"median\"))\n",
    "    return df\n",
    "\n",
    "def get_Group_size(df):\n",
    "    Ticket_counts = df.Ticket.value_counts()\n",
    "    df['Ticket_counts'] = df.Ticket.apply(lambda x: Ticket_counts[x])\n",
    "    df['Family_size'] = df['SibSp'] + df['Parch'] + 1\n",
    "    df['Group_size'] = df[['Family_size', 'Ticket_counts']].max(axis=1)\n",
    "    return df\n",
    "\n",
    "def process_features(df):\n",
    "    df.Sex = df.Sex.astype('category', ordered=False).cat.codes\n",
    "    features_to_keep = ['Age', 'Fare', 'Group_size', 'Pclass', 'Sex']\n",
    "    df = df[features_to_keep]\n",
    "    return df\n",
    "\n",
    "def process_data(df):\n",
    "    df = df.copy()\n",
    "    df = get_Titles(df)\n",
    "    df = fill_Age(df)\n",
    "    df = get_Group_size(df)\n",
    "    df = process_features(df)\n",
    "    return df\n",
    "\n",
    "X_train, X_test = process_data(train), process_data(test)"
   ]
  },
  {
   "cell_type": "code",
   "execution_count": 6,
   "metadata": {},
   "outputs": [],
   "source": [
    "X_train, X_valid, y_train, y_valid = train_test_split(X_train, target, random_state=0)"
   ]
  },
  {
   "cell_type": "code",
   "execution_count": 7,
   "metadata": {},
   "outputs": [
    {
     "data": {
      "text/html": [
       "<div>\n",
       "<style scoped>\n",
       "    .dataframe tbody tr th:only-of-type {\n",
       "        vertical-align: middle;\n",
       "    }\n",
       "\n",
       "    .dataframe tbody tr th {\n",
       "        vertical-align: top;\n",
       "    }\n",
       "\n",
       "    .dataframe thead th {\n",
       "        text-align: right;\n",
       "    }\n",
       "</style>\n",
       "<table border=\"1\" class=\"dataframe\">\n",
       "  <thead>\n",
       "    <tr style=\"text-align: right;\">\n",
       "      <th></th>\n",
       "      <th>Age</th>\n",
       "      <th>Fare</th>\n",
       "      <th>Group_size</th>\n",
       "      <th>Pclass</th>\n",
       "      <th>Sex</th>\n",
       "    </tr>\n",
       "  </thead>\n",
       "  <tbody>\n",
       "    <tr>\n",
       "      <th>105</th>\n",
       "      <td>28.0</td>\n",
       "      <td>7.8958</td>\n",
       "      <td>1</td>\n",
       "      <td>3</td>\n",
       "      <td>1</td>\n",
       "    </tr>\n",
       "    <tr>\n",
       "      <th>68</th>\n",
       "      <td>17.0</td>\n",
       "      <td>7.9250</td>\n",
       "      <td>7</td>\n",
       "      <td>3</td>\n",
       "      <td>0</td>\n",
       "    </tr>\n",
       "    <tr>\n",
       "      <th>253</th>\n",
       "      <td>30.0</td>\n",
       "      <td>16.1000</td>\n",
       "      <td>2</td>\n",
       "      <td>3</td>\n",
       "      <td>1</td>\n",
       "    </tr>\n",
       "    <tr>\n",
       "      <th>320</th>\n",
       "      <td>22.0</td>\n",
       "      <td>7.2500</td>\n",
       "      <td>1</td>\n",
       "      <td>3</td>\n",
       "      <td>1</td>\n",
       "    </tr>\n",
       "    <tr>\n",
       "      <th>706</th>\n",
       "      <td>45.0</td>\n",
       "      <td>13.5000</td>\n",
       "      <td>1</td>\n",
       "      <td>2</td>\n",
       "      <td>0</td>\n",
       "    </tr>\n",
       "  </tbody>\n",
       "</table>\n",
       "</div>"
      ],
      "text/plain": [
       "      Age     Fare  Group_size  Pclass  Sex\n",
       "105  28.0   7.8958           1       3    1\n",
       "68   17.0   7.9250           7       3    0\n",
       "253  30.0  16.1000           2       3    1\n",
       "320  22.0   7.2500           1       3    1\n",
       "706  45.0  13.5000           1       2    0"
      ]
     },
     "execution_count": 7,
     "metadata": {},
     "output_type": "execute_result"
    }
   ],
   "source": [
    "X_train.head()"
   ]
  },
  {
   "cell_type": "code",
   "execution_count": 9,
   "metadata": {},
   "outputs": [
    {
     "data": {
      "text/plain": [
       "105    0\n",
       "68     1\n",
       "253    0\n",
       "320    0\n",
       "706    1\n",
       "Name: Survived, dtype: category\n",
       "Categories (2, int64): [0, 1]"
      ]
     },
     "execution_count": 9,
     "metadata": {},
     "output_type": "execute_result"
    }
   ],
   "source": [
    "y_train.head()"
   ]
  },
  {
   "cell_type": "code",
   "execution_count": 23,
   "metadata": {},
   "outputs": [],
   "source": [
    "def fit_and_score(clf):\n",
    "    clf.fit(X_train, y_train)\n",
    "\n",
    "    print('Accuracy of classifier on training set: {:.2f}'\n",
    "         .format(clf.score(X_train, y_train)))\n",
    "    print('Accuracy of classifier on test set: {:.2f}'\n",
    "         .format(clf.score(X_valid, y_valid)))"
   ]
  },
  {
   "cell_type": "code",
   "execution_count": 31,
   "metadata": {},
   "outputs": [
    {
     "name": "stdout",
     "output_type": "stream",
     "text": [
      "Accuracy of classifier on training set: 0.80\n",
      "Accuracy of classifier on test set: 0.78\n"
     ]
    }
   ],
   "source": [
    "clf1 = LogisticRegression()\n",
    "fit_and_score(clf1)"
   ]
  },
  {
   "cell_type": "markdown",
   "metadata": {},
   "source": [
    "Regularization:"
   ]
  },
  {
   "cell_type": "code",
   "execution_count": 38,
   "metadata": {},
   "outputs": [
    {
     "name": "stdout",
     "output_type": "stream",
     "text": [
      "Accuracy of classifier on training set: 0.80\n",
      "Accuracy of classifier on test set: 0.80\n"
     ]
    }
   ],
   "source": [
    "clf2 = LogisticRegression(C=5)\n",
    "fit_and_score(clf2)"
   ]
  },
  {
   "cell_type": "code",
   "execution_count": null,
   "metadata": {},
   "outputs": [],
   "source": []
  },
  {
   "cell_type": "markdown",
   "metadata": {},
   "source": [
    "### Acknowledgement:\n",
    "\n",
    "- [Image1](https://commons.wikimedia.org/wiki/File:Gaussian_kernel_regression.png)\n",
    "- [Image2](https://commons.wikimedia.org/wiki/File:Overfitting.svg)\n",
    "- [Image4](https://commons.wikimedia.org/wiki/File:CART_tree_titanic_survivors.png)\n",
    "- [IMAGE5](https://www.mathworks.com/matlabcentral/fileexchange/63621-knn-classifier)\n",
    "- http://mlwiki.org/index.php/Overfitting\n",
    "- https://github.com/trekhleb/machine-learning-octave/tree/master/logistic-regression\n",
    "- https://gist.github.com/anandology/772d44d291a9daa198d4\n",
    "- [Learning rate](http://mlexplained.com/2018/01/29/learning-rate-tuning-in-deep-learning-a-practical-guide/)\n",
    "- Udacity"
   ]
  },
  {
   "cell_type": "markdown",
   "metadata": {},
   "source": [
    "Assumptions of linear regression"
   ]
  }
 ],
 "metadata": {
  "kernelspec": {
   "display_name": "Python 3",
   "language": "python",
   "name": "python3"
  },
  "language_info": {
   "codemirror_mode": {
    "name": "ipython",
    "version": 3
   },
   "file_extension": ".py",
   "mimetype": "text/x-python",
   "name": "python",
   "nbconvert_exporter": "python",
   "pygments_lexer": "ipython3",
   "version": "3.6.8"
  }
 },
 "nbformat": 4,
 "nbformat_minor": 2
}
