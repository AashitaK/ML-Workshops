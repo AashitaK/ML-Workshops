{
 "cells": [
  {
   "cell_type": "markdown",
   "metadata": {},
   "source": [
    "## Guided session 3 (30 min)\n",
    "\n",
    "This is one of the notebooks for the third session of the [Machine Learning workshop series at Harvey Mudd College](http://www.aashitak.com/ML-Workshops/).\n",
    "\n",
    "Supervised learning algorithms:\n",
    "- Regression\n",
    "- Classification \n",
    "\n",
    "## Regression:  \n",
    "- Determining the impact of response variables on the target variable. \n",
    "- Fitting a curve using training data to estimate target variable for unseen data\n",
    "\n",
    "<img src=\"https://upload.wikimedia.org/wikipedia/commons/8/8a/Gaussian_kernel_regression.png\" width=\"300\" height=\"350\" />\n",
    "<p style=\"text-align: center;\"> Regression curve </p> "
   ]
  },
  {
   "cell_type": "markdown",
   "metadata": {},
   "source": [
    "Let us see a demonstrative example of simple linear regression using the [diabetes dataset](https://scikit-learn.org/stable/datasets/index.html#diabetes-dataset) from the [sklearn.datasets](https://scikit-learn.org/stable/datasets/index.html). First we import python modules and the dataset:"
   ]
  },
  {
   "cell_type": "code",
   "execution_count": 1,
   "metadata": {},
   "outputs": [
    {
     "data": {
      "text/html": [
       "<div>\n",
       "<style scoped>\n",
       "    .dataframe tbody tr th:only-of-type {\n",
       "        vertical-align: middle;\n",
       "    }\n",
       "\n",
       "    .dataframe tbody tr th {\n",
       "        vertical-align: top;\n",
       "    }\n",
       "\n",
       "    .dataframe thead th {\n",
       "        text-align: right;\n",
       "    }\n",
       "</style>\n",
       "<table border=\"1\" class=\"dataframe\">\n",
       "  <thead>\n",
       "    <tr style=\"text-align: right;\">\n",
       "      <th></th>\n",
       "      <th>age</th>\n",
       "      <th>sex</th>\n",
       "      <th>bmi</th>\n",
       "      <th>bp</th>\n",
       "      <th>s1</th>\n",
       "      <th>s2</th>\n",
       "      <th>s3</th>\n",
       "      <th>s4</th>\n",
       "      <th>s5</th>\n",
       "      <th>s6</th>\n",
       "    </tr>\n",
       "  </thead>\n",
       "  <tbody>\n",
       "    <tr>\n",
       "      <th>0</th>\n",
       "      <td>0.038076</td>\n",
       "      <td>0.050680</td>\n",
       "      <td>0.061696</td>\n",
       "      <td>0.021872</td>\n",
       "      <td>-0.044223</td>\n",
       "      <td>-0.034821</td>\n",
       "      <td>-0.043401</td>\n",
       "      <td>-0.002592</td>\n",
       "      <td>0.019908</td>\n",
       "      <td>-0.017646</td>\n",
       "    </tr>\n",
       "    <tr>\n",
       "      <th>1</th>\n",
       "      <td>-0.001882</td>\n",
       "      <td>-0.044642</td>\n",
       "      <td>-0.051474</td>\n",
       "      <td>-0.026328</td>\n",
       "      <td>-0.008449</td>\n",
       "      <td>-0.019163</td>\n",
       "      <td>0.074412</td>\n",
       "      <td>-0.039493</td>\n",
       "      <td>-0.068330</td>\n",
       "      <td>-0.092204</td>\n",
       "    </tr>\n",
       "    <tr>\n",
       "      <th>2</th>\n",
       "      <td>0.085299</td>\n",
       "      <td>0.050680</td>\n",
       "      <td>0.044451</td>\n",
       "      <td>-0.005671</td>\n",
       "      <td>-0.045599</td>\n",
       "      <td>-0.034194</td>\n",
       "      <td>-0.032356</td>\n",
       "      <td>-0.002592</td>\n",
       "      <td>0.002864</td>\n",
       "      <td>-0.025930</td>\n",
       "    </tr>\n",
       "    <tr>\n",
       "      <th>3</th>\n",
       "      <td>-0.089063</td>\n",
       "      <td>-0.044642</td>\n",
       "      <td>-0.011595</td>\n",
       "      <td>-0.036656</td>\n",
       "      <td>0.012191</td>\n",
       "      <td>0.024991</td>\n",
       "      <td>-0.036038</td>\n",
       "      <td>0.034309</td>\n",
       "      <td>0.022692</td>\n",
       "      <td>-0.009362</td>\n",
       "    </tr>\n",
       "    <tr>\n",
       "      <th>4</th>\n",
       "      <td>0.005383</td>\n",
       "      <td>-0.044642</td>\n",
       "      <td>-0.036385</td>\n",
       "      <td>0.021872</td>\n",
       "      <td>0.003935</td>\n",
       "      <td>0.015596</td>\n",
       "      <td>0.008142</td>\n",
       "      <td>-0.002592</td>\n",
       "      <td>-0.031991</td>\n",
       "      <td>-0.046641</td>\n",
       "    </tr>\n",
       "  </tbody>\n",
       "</table>\n",
       "</div>"
      ],
      "text/plain": [
       "        age       sex       bmi        bp        s1        s2        s3  \\\n",
       "0  0.038076  0.050680  0.061696  0.021872 -0.044223 -0.034821 -0.043401   \n",
       "1 -0.001882 -0.044642 -0.051474 -0.026328 -0.008449 -0.019163  0.074412   \n",
       "2  0.085299  0.050680  0.044451 -0.005671 -0.045599 -0.034194 -0.032356   \n",
       "3 -0.089063 -0.044642 -0.011595 -0.036656  0.012191  0.024991 -0.036038   \n",
       "4  0.005383 -0.044642 -0.036385  0.021872  0.003935  0.015596  0.008142   \n",
       "\n",
       "         s4        s5        s6  \n",
       "0 -0.002592  0.019908 -0.017646  \n",
       "1 -0.039493 -0.068330 -0.092204  \n",
       "2 -0.002592  0.002864 -0.025930  \n",
       "3  0.034309  0.022692 -0.009362  \n",
       "4 -0.002592 -0.031991 -0.046641  "
      ]
     },
     "execution_count": 1,
     "metadata": {},
     "output_type": "execute_result"
    }
   ],
   "source": [
    "import pandas as pd\n",
    "import numpy as np\n",
    "\n",
    "import matplotlib.pyplot as plt\n",
    "import seaborn as sns\n",
    "%matplotlib inline\n",
    "\n",
    "import warnings\n",
    "warnings.simplefilter('ignore')\n",
    "\n",
    "from sklearn import datasets\n",
    "diabetes = datasets.load_diabetes()\n",
    "df = pd.DataFrame(data=diabetes.data, columns=diabetes.feature_names)\n",
    "df.head()"
   ]
  },
  {
   "cell_type": "markdown",
   "metadata": {},
   "source": [
    "The dataset has many features (or variables), but we will pick only the BMI so as to be able to plot and visualize the relationship between input and target variables."
   ]
  },
  {
   "cell_type": "code",
   "execution_count": 2,
   "metadata": {},
   "outputs": [
    {
     "data": {
      "image/png": "[encoded data removed]",
      "text/plain": [
       "<Figure size 432x288 with 1 Axes>"
      ]
     },
     "metadata": {
      "needs_background": "light"
     },
     "output_type": "display_data"
    }
   ],
   "source": [
    "X = df['bmi'].values\n",
    "Y = diabetes.target\n",
    "\n",
    "plt.scatter(X, Y);\n",
    "plt.xlabel('Body mass index (BMI)');\n",
    "plt.ylabel('Disease progression');"
   ]
  },
  {
   "cell_type": "markdown",
   "metadata": {},
   "source": [
    "Let us pick a few points from the dataset and try to fit a line."
   ]
  },
  {
   "cell_type": "code",
   "execution_count": null,
   "metadata": {},
   "outputs": [],
   "source": [
    "import random\n",
    "random.seed(0)\n",
    "idx = random.sample(range(len(df)), 5)\n",
    "x1, y1 = X[idx], Y[idx]\n",
    "plt.scatter(x1, y1);"
   ]
  },
  {
   "cell_type": "code",
   "execution_count": null,
   "metadata": {},
   "outputs": [],
   "source": [
    "def plot_line(w, b):\n",
    "    x_values = np.linspace(X.min(), X.max(), 100)\n",
    "    y_values = w*x_values + b\n",
    "    plt.plot(x_values, y_values, 'r-')"
   ]
  },
  {
   "cell_type": "markdown",
   "metadata": {},
   "source": [
    "We guess values for slope and intercept by trial-and-error:"
   ]
  },
  {
   "cell_type": "code",
   "execution_count": null,
   "metadata": {},
   "outputs": [],
   "source": [
    "w = 1300\n",
    "b = 130\n",
    "plt.scatter(x1, y1);\n",
    "plot_line(w, b);"
   ]
  },
  {
   "cell_type": "markdown",
   "metadata": {},
   "source": [
    "As we add more points, the slop and intercept of the line needs to be adjusted accordingly."
   ]
  },
  {
   "cell_type": "code",
   "execution_count": null,
   "metadata": {},
   "outputs": [],
   "source": [
    "random.seed(12)\n",
    "idx = random.sample(range(len(df)), 5)\n",
    "x2, y2 = X[idx], Y[idx]\n",
    "plt.scatter(x1, y1);\n",
    "plt.scatter(x2, y2);\n",
    "plot_line(w, b);"
   ]
  },
  {
   "cell_type": "markdown",
   "metadata": {},
   "source": [
    "Try a few values of weights closer to the ones above and see which seems to fit best. "
   ]
  },
  {
   "cell_type": "code",
   "execution_count": null,
   "metadata": {},
   "outputs": [],
   "source": [
    "w = 1400\n",
    "b = 140\n",
    "plt.scatter(x1, y1);\n",
    "plt.scatter(x2, y2);\n",
    "plot_line(w, b);"
   ]
  },
  {
   "cell_type": "markdown",
   "metadata": {},
   "source": [
    "In a nutshell, we are trying to find the optimal value for the slope and intercept for the line and we are learning from the training examples. Our objective is to minimize the difference between the actual $y$ value and the value predicted using the line. \n",
    "\n",
    "<img src=\"http://www.ken-szulczyk.com/misc/statistics/linear_regression.png\" width=\"300\" height=\"300\" />"
   ]
  },
  {
   "cell_type": "code",
   "execution_count": null,
   "metadata": {},
   "outputs": [],
   "source": [
    "x = np.concatenate([x1, x2])\n",
    "y = np.concatenate([y1, y2])\n",
    "y_pred = w*x + b\n",
    "error = y - y_pred\n",
    "pd.DataFrame({'x': x, 'y': y, 'y_pred': y_pred, \n",
    "              'error': error})"
   ]
  },
  {
   "cell_type": "markdown",
   "metadata": {},
   "source": [
    "The simple linear regression (linear regression with one variable) is formulated as $ y_{pred} = w * x + b $.\n",
    "\n",
    "To find the optimal values for $w$ and $b$, we need to quantify the cost function (also known as the error function or the loss function) that we can minimize. \n",
    "\n",
    "* How do we formulate it?\n",
    "* Should we sum up the errors? If not, why?\n",
    "\n",
    "The simple linear regression model uses the mean-squared error (MSE) as the cost function. We square the errors and then take their average.\n",
    "\n",
    "$$ J = \\frac{1}{2 n} \\sum_{i=1}^n (y^{(i)} - y_{pred}^{(i)})^2 $$\n",
    "\n",
    "The [gradient descent algorithm](https://machinelearningmastery.com/gradient-descent-for-machine-learning/) is used to update the weights iteratively in the direction of the steepest descent of the cost function. \n",
    "\n",
    "$$ w := w - \\alpha \\nabla J $$\n",
    "\n",
    "where $\\nabla J$ is the gradient of the cost function $J$ and $\\alpha$ is the learning rate that determines the size of steps that we take descending on the path of gradient.\n",
    "\n",
    "<img src=\"https://rasbt.github.io/mlxtend/user_guide/general_concepts/gradient-optimization_files/ball.png\" width=\"350\" height=\"450\" />\n",
    "<p style=\"text-align: center;\"> Minimizing the cost function using gradient descent </p> \n",
    "\n",
    "\n",
    "To derive the formula for updating weights using gradient descent, we first substitute $ y_{pred}^{(i)} = w * x^{(i)}+b $ in $J$ to get\n",
    "\n",
    "$$ J = \\frac{1}{2 n} \\sum_{i=1}^n (y^{(i)} - (w * x^{(i)}+b))^2 $$\n",
    "\n",
    "Then we take the partial derivative, \n",
    "$$ \\frac{\\partial J}{\\partial w} = \\frac{1}{n} \\sum_{i=1}^n (y^{(i)} - y_{pred}^{(i)})   \\ x^{(i)} $$\n",
    "Thus, we get\n",
    "$$ w := w - \\alpha \\frac{1}{n} \\sum_{i=1}^n (y^{(i)} - y_{pred}^{(i)})   \\ x^{(i)} $$\n",
    "Similarly,\n",
    "$$ b := b - \\alpha \\frac{1}{n} \\sum_{i=1}^n (y^{(i)} - y_{pred}^{(i)})   $$\n",
    "\n",
    "To summarize, we defined a cost function to quantify the error in predicting outputs and then we update the weights so as to minimize the cost in the fastest way with the help of gradient descent algorithm.\n",
    "\n",
    "The same formulation and understanding can be extended to linear regression with more than one variable, say $x_1, x_2, \\dots, x_n$ with the equation \n",
    "$$ y_{pred} = b + w_1 * x_1 + w_2 * x_2 + \\cdots + w_n * x_n$$ \n",
    "And we estimate the weights $w_1, w_2, \\dots, w_n$ corresponding to each variable as well as the intercept."
   ]
  },
  {
   "cell_type": "markdown",
   "metadata": {},
   "source": [
    "Scikit-learn has an implementation of the linear regression as demonstrated below. First we import the function [LinearRegression](https://scikit-learn.org/stable/modules/generated/sklearn.linear_model.LinearRegression.html) and then initialize the regressor."
   ]
  },
  {
   "cell_type": "code",
   "execution_count": null,
   "metadata": {},
   "outputs": [],
   "source": [
    "from sklearn.linear_model import LinearRegression\n",
    "lin_reg = LinearRegression()"
   ]
  },
  {
   "cell_type": "markdown",
   "metadata": {},
   "source": [
    "Then we train the regressor using the `fit()` method on the smaller set of 10 data points."
   ]
  },
  {
   "cell_type": "code",
   "execution_count": null,
   "metadata": {},
   "outputs": [],
   "source": [
    "x = x.reshape(-1, 1)\n",
    "lin_reg.fit(x, y)"
   ]
  },
  {
   "cell_type": "code",
   "execution_count": null,
   "metadata": {},
   "outputs": [],
   "source": [
    "w = lin_reg.coef_[0]\n",
    "b = lin_reg.intercept_\n",
    "w, b"
   ]
  },
  {
   "cell_type": "markdown",
   "metadata": {},
   "source": [
    "How does the values for the slope and intercept compare with the ones you guessed earlier?"
   ]
  },
  {
   "cell_type": "code",
   "execution_count": null,
   "metadata": {},
   "outputs": [],
   "source": [
    "plt.scatter(x, y);\n",
    "plot_line(w, b);"
   ]
  },
  {
   "cell_type": "markdown",
   "metadata": {},
   "source": [
    "Next, we train the regressor on the entire dataset and fit a line."
   ]
  },
  {
   "cell_type": "code",
   "execution_count": null,
   "metadata": {},
   "outputs": [],
   "source": [
    "X = X.reshape(-1, 1)\n",
    "lin_reg.fit(X, Y)\n",
    "w = lin_reg.coef_[0]\n",
    "b = lin_reg.intercept_\n",
    "plt.scatter(X, Y);\n",
    "plot_line(w, b);"
   ]
  },
  {
   "cell_type": "markdown",
   "metadata": {},
   "source": [
    "The feature BMI does not seem to possess a linear relationship with the disease progression. The coefficient of determination (denoted by $R^2$) is a statistical measure of how close the data are to the fitted regression line and it can be calculated using `score()` method."
   ]
  },
  {
   "cell_type": "code",
   "execution_count": null,
   "metadata": {},
   "outputs": [],
   "source": [
    "lin_reg.score(X, Y)"
   ]
  },
  {
   "cell_type": "markdown",
   "metadata": {},
   "source": [
    "So, the R-sqaured is around 34%, which is somewhat low.\n",
    "\n",
    "$R^2$ is one of the metric for evaluating regression models. Following are some data points plots for demonstration, the first two have $R^2$ equal to 1 and the last two with $R^2$ equal to 0.\n",
    "\n",
    "\n",
    "<div style=\"display:flex\">\n",
    "     <div style=\"flex:1;padding-right:5px;\">\n",
    "          <img src=\"http://www.ken-szulczyk.com/misc/statistics/correlation_01.gif\" width=\"200\" height=\"200\">\n",
    "     </div>\n",
    "     <div style=\"flex:1;padding-left:5px;\">\n",
    "          <img src=\"http://www.ken-szulczyk.com/misc/statistics/correlation_02.gif\" width=\"200\" height=\"200\">\n",
    "     </div>\n",
    "     <div style=\"flex:1;padding-left:5px;\">\n",
    "          <img src=\"http://www.ken-szulczyk.com/misc/statistics/correlation_03.gif\" width=\"400\" height=\"400\">\n",
    "     </div>\n",
    "</div>\n"
   ]
  },
  {
   "cell_type": "markdown",
   "metadata": {},
   "source": [
    "## Classification: \n",
    "- Predicting a label to classify the data points.\n",
    "- Finding a decision boundary using a labeled training dataset to determine labels for unseen data.\n",
    "\n",
    "An example of binary classification algorithm: Logistic regression - separates the classes using a linear boundary \n",
    "\n",
    "<img src=\"https://camo.githubusercontent.com/f663cd4f29335972950dded4d422c07aeee8af55/68747470733a2f2f63646e2d696d616765732d312e6d656469756d2e636f6d2f6d61782f313630302f312a34473067737539327250684e2d636f397076315035414032782e706e67\" width=\"300\" height=\"350\" />\n",
    "<p style=\"text-align: center;\"> Logistic Regression classifier </p>"
   ]
  },
  {
   "cell_type": "markdown",
   "metadata": {},
   "source": [
    "Three classifiers A, B and C are trained on a given labeled dataset. The accuracy of the trained classifiers in predicting the labels correctly on the same dataset is as follows.\n",
    "\n",
    "|Models | Accuracy| \n",
    "|---|---|\n",
    "| Model A | 90%|\n",
    "| Model B | 80%|\n",
    "| Model C | 70%|\n",
    "\n",
    "Clearly, model A is better at predicting labels for the training data than model B and C. Do you think model A will do a better job in predicting labels for yet unseen data as well?\n",
    "\n",
    "To answer this question, let us first briefly overwiew the learning process for logistic classifiers.\n",
    "\n",
    "It will be helpful to build our understanding of the learning process based on either the logistic classifier or the linear regression. When the neural networks are pared-down to a single layer with the commonly used logistic sigmoid function as the activation function, then what we get is a logistic classifier. These algorithms, that is logistic/linear regression and simple neural networks, are called parametric machine learning algorithms. In the context of parameteric algorithms, let us think about the following questions related to the learning process. "
   ]
  },
  {
   "cell_type": "markdown",
   "metadata": {},
   "source": [
    "#### What does the machine learn?\n",
    "\n",
    "Answer: Model parameters (or weights) specific for each classification/regression algorithm.\n",
    "\n",
    "#### How does the machine learn the parameters (or weights)?\n",
    "\n",
    "Model parameters (or weights) are updated to keep on ***minimizing the cost function*** iteratively using the training data. The cost has distinctive mathematical formulations for various algorithms but the gist of the learning process is the same.\n"
   ]
  },
  {
   "cell_type": "markdown",
   "metadata": {},
   "source": [
    "#### Cost function  \n",
    "* For regression: Measures the difference between the predicted output and the true output in the ***training datset***. \n",
    "* For classification: Measures the error in classifying examples in the ***training dataset***. "
   ]
  },
  {
   "cell_type": "markdown",
   "metadata": {},
   "source": [
    "***When to stop the iterative learning process? Until the cost function has reached its minimum value?*** "
   ]
  },
  {
   "cell_type": "markdown",
   "metadata": {},
   "source": [
    "To answer the question, let us consider this binary classification problem with two variables (features). \n",
    "<img src=\"https://upload.wikimedia.org/wikipedia/commons/1/19/Overfitting.svg\" width=\"250\" height=\"250\" />\n",
    "\n",
    "* Which of the two decision boundaries (black or green) will have a lower value for the cost function?\n",
    "* Which decision boundary would you prefer for classifying the unseen examples?\n",
    "\n",
    "Since the cost function is calculated solely based on the training dataset, minimizing it too much might mean that the model do not generalize well to unseen examples. This is called overfitting. "
   ]
  },
  {
   "cell_type": "markdown",
   "metadata": {},
   "source": [
    "***Over-fitting and under-fitting to the training set***  \n",
    "The models can over-train on a dataset, that is they learn the dataset so well that they do not generalize well to the examples outside of that dataset. \n",
    "\n",
    "If we try to fit too complex of a curve as the decision boundary separating the classes and we don't have enough training examples to estimate the parameters for the curve, then we suffer from over-fitting.\n",
    "\n",
    "On the other hand, if we try separating the classes with an over-simplified curve as the decision boundary and we have enough training examples to estimate a curve that would be a better fit, then we suffer from under-fitting. \n",
    "\n",
    "<img src=\"https://vitalflux.com/wp-content/uploads/2015/02/fittings.jpg\" width=\"600\" height=\"800\" />\n",
    "\n",
    "How do we know whether our model is overfitting or underfitting to the training set?\n",
    "\n",
    "Answer: At the beginning, we save some examples as the validation set and use it to test the performance of the model. \n",
    "\n",
    "|Models | Accuracy on the training set | Accuracy on the validation set | \n",
    "|---|---|---|\n",
    "| Model A | 90%| 70% |\n",
    "| Model B | 80%| 75% |\n",
    "| Model C | 70%| 65% |\n",
    "\n",
    "* With this additional information, can you guess which model will likely perform better for the unseen data?\n",
    "* Which of these three models would you suspect for overfitting to the training data?\n",
    "* Which of these three models would you suspect for underfitting to the training data?\n",
    "\n",
    "The problem for over-fitting and under-fitting and the underlying reasons of model complexity is the same for regression as well.\n",
    "\n",
    "<img src=\"https://docs.aws.amazon.com/machine-learning/latest/dg/images/mlconcepts_image5.png\" width=\"600\" height=\"800\" />\n",
    "\n",
    "#### Key take-aways so far:\n",
    "- Always save some examples from the datasets for testing model performance.\n",
    "- Pay attention to the model performance on the validation set rather than solely on the training set.\n",
    "- Watch out for both under-fitting and over-fitting."
   ]
  },
  {
   "cell_type": "markdown",
   "metadata": {},
   "source": [
    "\n",
    "\n",
    "#### How to address overfitting?\n",
    "- Reduce the number of features \n",
    "    - Discard some features\n",
    "    - Dimensionality reduction techniques such PCA, LDA, etc.\n",
    "- Simplify the model (by tuning hyperparameters)\n",
    "- Early termination (reducing the number of iterations for training)\n",
    "- Regularization, if applicable\n",
    "- Add more training examples, if possible  \n",
    "<img src=\"https://i.stack.imgur.com/rpqa6.jpg\" width=\"450\" height=\"600\" />\n",
    "\n",
    "In a nutshell, to reduce overfitting, reduce complexity.\n",
    "To reduce underfitting, enhance complexity.\n",
    "\n",
    "The next [notebook on regression algorithms](https://www.kaggle.com/aashita/regression-algorithms) is meant to be a gentle introduction overviewing the various regression algorithms to give you a roadmap to explore and learn more deeply in your own time. We will use [House Prices: Advanced Regression Techniques](https://www.kaggle.com/c/house-prices-advanced-regression-techniques/overview) dataset from a Kaggle competition to learn the algorithms.\n",
    "\n",
    "In the [exercise notebook](https://www.kaggle.com/aashita/exercise-3), you will tackle the [Bike Sharing Demand](https://www.kaggle.com/c/bike-sharing-demand/overview) dataset from another Kaggle competition. You will practise hyper-parameters tuning, an essential part of optimizing a model, that will deepen your understanding of the algorithms introduced above."
   ]
  },
  {
   "cell_type": "markdown",
   "metadata": {},
   "source": [
    "### Acknowledgements:\n",
    "\n",
    "The credits for the images used above are as follows.\n",
    "- Image 1: https://commons.wikimedia.org/wiki/File:Gaussian_kernel_regression.png\n",
    "- Image 2: http://www.ken-szulczyk.com/misc/statistical_lecture_10.php\n",
    "- Image 3: https://rasbt.github.io/mlxtend/user_guide/general_concepts/gradient-optimization/\n",
    "- Images 4, 5, 6, 7: http://www.ken-szulczyk.com/misc/statistical_lecture_10.php\n",
    "- Image 8: https://github.com/trekhleb/machine-learning-octave/tree/master/logistic-regression\n",
    "- Image 9: https://commons.wikimedia.org/wiki/File:Overfitting.svg\n",
    "- Image 10: https://vitalflux.com/wp-content/uploads/2015/02/fittings.jpg\n",
    "- Image 11: https://docs.aws.amazon.com/machine-learning/latest/dg/model-fit-underfitting-vs-overfitting.html\n",
    "- Image 12: https://i.stack.imgur.com/rpqa6.jpg"
   ]
  },
  {
   "cell_type": "code",
   "execution_count": null,
   "metadata": {},
   "outputs": [],
   "source": []
  }
 ],
 "metadata": {
  "kernelspec": {
   "display_name": "Python 3",
   "language": "python",
   "name": "python3"
  },
  "language_info": {
   "codemirror_mode": {
    "name": "ipython",
    "version": 3
   },
   "file_extension": ".py",
   "mimetype": "text/x-python",
   "name": "python",
   "nbconvert_exporter": "python",
   "pygments_lexer": "ipython3",
   "version": "3.6.8"
  }
 },
 "nbformat": 4,
 "nbformat_minor": 2
}
