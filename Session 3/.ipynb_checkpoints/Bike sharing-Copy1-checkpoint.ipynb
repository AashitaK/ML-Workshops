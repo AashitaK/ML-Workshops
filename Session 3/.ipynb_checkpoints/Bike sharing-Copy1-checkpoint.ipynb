{
 "cells": [
  {
   "cell_type": "markdown",
   "metadata": {},
   "source": [
    "## Exercise 3"
   ]
  },
  {
   "cell_type": "markdown",
   "metadata": {},
   "source": [
    "First we import python modules:"
   ]
  },
  {
   "cell_type": "code",
   "execution_count": 1,
   "metadata": {},
   "outputs": [],
   "source": [
    "import pandas as pd\n",
    "import numpy as np\n",
    "\n",
    "import matplotlib.pyplot as plt\n",
    "import seaborn as sns\n",
    "%matplotlib inline\n",
    "\n",
    "from sklearn.model_selection import train_test_split\n",
    "from sklearn.linear_model import LinearRegression, Lasso, Ridge, ElasticNet\n",
    "from sklearn.preprocessing import PolynomialFeatures\n",
    "\n",
    "import warnings\n",
    "warnings.simplefilter('ignore')"
   ]
  },
  {
   "cell_type": "markdown",
   "metadata": {},
   "source": [
    "[Bike Sharing Demand](https://www.kaggle.com/c/bike-sharing-demand/overview)"
   ]
  },
  {
   "cell_type": "code",
   "execution_count": 2,
   "metadata": {},
   "outputs": [
    {
     "data": {
      "text/html": [
       "<div>\n",
       "<style scoped>\n",
       "    .dataframe tbody tr th:only-of-type {\n",
       "        vertical-align: middle;\n",
       "    }\n",
       "\n",
       "    .dataframe tbody tr th {\n",
       "        vertical-align: top;\n",
       "    }\n",
       "\n",
       "    .dataframe thead th {\n",
       "        text-align: right;\n",
       "    }\n",
       "</style>\n",
       "<table border=\"1\" class=\"dataframe\">\n",
       "  <thead>\n",
       "    <tr style=\"text-align: right;\">\n",
       "      <th></th>\n",
       "      <th>datetime</th>\n",
       "      <th>season</th>\n",
       "      <th>holiday</th>\n",
       "      <th>workingday</th>\n",
       "      <th>weather</th>\n",
       "      <th>temp</th>\n",
       "      <th>atemp</th>\n",
       "      <th>humidity</th>\n",
       "      <th>windspeed</th>\n",
       "      <th>casual</th>\n",
       "      <th>registered</th>\n",
       "      <th>count</th>\n",
       "    </tr>\n",
       "  </thead>\n",
       "  <tbody>\n",
       "    <tr>\n",
       "      <th>0</th>\n",
       "      <td>2011-01-01 00:00:00</td>\n",
       "      <td>1</td>\n",
       "      <td>0</td>\n",
       "      <td>0</td>\n",
       "      <td>1</td>\n",
       "      <td>9.84</td>\n",
       "      <td>14.395</td>\n",
       "      <td>81</td>\n",
       "      <td>0.0</td>\n",
       "      <td>3</td>\n",
       "      <td>13</td>\n",
       "      <td>16</td>\n",
       "    </tr>\n",
       "    <tr>\n",
       "      <th>1</th>\n",
       "      <td>2011-01-01 01:00:00</td>\n",
       "      <td>1</td>\n",
       "      <td>0</td>\n",
       "      <td>0</td>\n",
       "      <td>1</td>\n",
       "      <td>9.02</td>\n",
       "      <td>13.635</td>\n",
       "      <td>80</td>\n",
       "      <td>0.0</td>\n",
       "      <td>8</td>\n",
       "      <td>32</td>\n",
       "      <td>40</td>\n",
       "    </tr>\n",
       "    <tr>\n",
       "      <th>2</th>\n",
       "      <td>2011-01-01 02:00:00</td>\n",
       "      <td>1</td>\n",
       "      <td>0</td>\n",
       "      <td>0</td>\n",
       "      <td>1</td>\n",
       "      <td>9.02</td>\n",
       "      <td>13.635</td>\n",
       "      <td>80</td>\n",
       "      <td>0.0</td>\n",
       "      <td>5</td>\n",
       "      <td>27</td>\n",
       "      <td>32</td>\n",
       "    </tr>\n",
       "    <tr>\n",
       "      <th>3</th>\n",
       "      <td>2011-01-01 03:00:00</td>\n",
       "      <td>1</td>\n",
       "      <td>0</td>\n",
       "      <td>0</td>\n",
       "      <td>1</td>\n",
       "      <td>9.84</td>\n",
       "      <td>14.395</td>\n",
       "      <td>75</td>\n",
       "      <td>0.0</td>\n",
       "      <td>3</td>\n",
       "      <td>10</td>\n",
       "      <td>13</td>\n",
       "    </tr>\n",
       "    <tr>\n",
       "      <th>4</th>\n",
       "      <td>2011-01-01 04:00:00</td>\n",
       "      <td>1</td>\n",
       "      <td>0</td>\n",
       "      <td>0</td>\n",
       "      <td>1</td>\n",
       "      <td>9.84</td>\n",
       "      <td>14.395</td>\n",
       "      <td>75</td>\n",
       "      <td>0.0</td>\n",
       "      <td>0</td>\n",
       "      <td>1</td>\n",
       "      <td>1</td>\n",
       "    </tr>\n",
       "  </tbody>\n",
       "</table>\n",
       "</div>"
      ],
      "text/plain": [
       "              datetime  season  holiday  workingday  weather  temp   atemp  \\\n",
       "0  2011-01-01 00:00:00       1        0           0        1  9.84  14.395   \n",
       "1  2011-01-01 01:00:00       1        0           0        1  9.02  13.635   \n",
       "2  2011-01-01 02:00:00       1        0           0        1  9.02  13.635   \n",
       "3  2011-01-01 03:00:00       1        0           0        1  9.84  14.395   \n",
       "4  2011-01-01 04:00:00       1        0           0        1  9.84  14.395   \n",
       "\n",
       "   humidity  windspeed  casual  registered  count  \n",
       "0        81        0.0       3          13     16  \n",
       "1        80        0.0       8          32     40  \n",
       "2        80        0.0       5          27     32  \n",
       "3        75        0.0       3          10     13  \n",
       "4        75        0.0       0           1      1  "
      ]
     },
     "execution_count": 2,
     "metadata": {},
     "output_type": "execute_result"
    }
   ],
   "source": [
    "path = 'bike-sharing-demand/'\n",
    "rides = pd.read_csv(path + 'train.csv')\n",
    "rides.head()"
   ]
  },
  {
   "cell_type": "markdown",
   "metadata": {},
   "source": [
    "**Data Fields**\n",
    "\n",
    "* datetime - hourly date + timestamp    \n",
    "* season -  1 = spring, 2 = summer, 3 = fall, 4 = winter   \n",
    "* holiday - whether the day is considered a holiday  \n",
    "* workingday - whether the day is neither a weekend nor holiday  \n",
    "* weather -   \n",
    "    1: Clear, Few clouds, Partly cloudy, Partly cloudy   \n",
    "    2: Mist + Cloudy, Mist + Broken clouds, Mist + Few clouds, Mist   \n",
    "    3: Light Snow, Light Rain + Thunderstorm + Scattered clouds, Light Rain + Scattered clouds   \n",
    "    4: Heavy Rain + Ice Pallets + Thunderstorm + Mist, Snow + Fog   \n",
    "* temp - temperature in Celsius  \n",
    "* atemp - \"feels like\" temperature in Celsius  \n",
    "* humidity - relative humidity  \n",
    "* windspeed - wind speed  \n",
    "* casual - number of non-registered user rentals initiated  \n",
    "* registered - number of registered user rentals initiated  \n",
    "* count - number of total rentals  "
   ]
  },
  {
   "cell_type": "markdown",
   "metadata": {},
   "source": [
    "Let us look at the *datetime* values."
   ]
  },
  {
   "cell_type": "code",
   "execution_count": 3,
   "metadata": {},
   "outputs": [
    {
     "data": {
      "text/plain": [
       "array(['2011-01-01 00:00:00', '2011-01-01 01:00:00',\n",
       "       '2011-01-01 02:00:00', '2011-01-01 03:00:00',\n",
       "       '2011-01-01 04:00:00'], dtype=object)"
      ]
     },
     "execution_count": 3,
     "metadata": {},
     "output_type": "execute_result"
    }
   ],
   "source": [
    "rides['datetime'].values[:5]"
   ]
  },
  {
   "cell_type": "markdown",
   "metadata": {},
   "source": [
    "We extract 'month', 'hour', 'weekday' from the 'datetime' column. "
   ]
  },
  {
   "cell_type": "code",
   "execution_count": 4,
   "metadata": {},
   "outputs": [],
   "source": [
    "import calendar\n",
    "from datetime import datetime\n",
    "\n",
    "def extract_from_datetime(rides):\n",
    "\n",
    "    rides[\"date\"] = rides[\"datetime\"].apply(lambda x : x.split()[0])\n",
    "    rides[\"hour\"] = rides[\"datetime\"].apply(lambda x : x.split()[1].split(\":\")[0])\n",
    "    rides[\"weekday\"] = rides[\"date\"].apply(lambda dateString : \n",
    "        calendar.day_name[datetime.strptime(dateString,\"%Y-%m-%d\").weekday()])\n",
    "    rides[\"month\"] = rides[\"date\"].apply(lambda dateString : \n",
    "        calendar.month_name[datetime.strptime(dateString,\"%Y-%m-%d\").month])\n",
    "    return rides"
   ]
  },
  {
   "cell_type": "markdown",
   "metadata": {},
   "source": [
    "We one-hot encode the categorical features."
   ]
  },
  {
   "cell_type": "code",
   "execution_count": 5,
   "metadata": {},
   "outputs": [],
   "source": [
    "# Ask to fill in\n",
    "def one_hot_encoding(rides):\n",
    "    dummy_fields = ['season', 'weather', 'month', 'hour', 'weekday']\n",
    "    for each in dummy_fields:\n",
    "        dummies = pd.get_dummies(rides[each], prefix=each, drop_first=False)\n",
    "        rides = pd.concat([rides, dummies], axis=1)\n",
    "    return rides"
   ]
  },
  {
   "cell_type": "markdown",
   "metadata": {},
   "source": [
    "We drop the columns that are redundant now."
   ]
  },
  {
   "cell_type": "code",
   "execution_count": 6,
   "metadata": {},
   "outputs": [
    {
     "data": {
      "text/html": [
       "<div>\n",
       "<style scoped>\n",
       "    .dataframe tbody tr th:only-of-type {\n",
       "        vertical-align: middle;\n",
       "    }\n",
       "\n",
       "    .dataframe tbody tr th {\n",
       "        vertical-align: top;\n",
       "    }\n",
       "\n",
       "    .dataframe thead th {\n",
       "        text-align: right;\n",
       "    }\n",
       "</style>\n",
       "<table border=\"1\" class=\"dataframe\">\n",
       "  <thead>\n",
       "    <tr style=\"text-align: right;\">\n",
       "      <th></th>\n",
       "      <th>datetime</th>\n",
       "      <th>season</th>\n",
       "      <th>holiday</th>\n",
       "      <th>workingday</th>\n",
       "      <th>weather</th>\n",
       "      <th>temp</th>\n",
       "      <th>atemp</th>\n",
       "      <th>humidity</th>\n",
       "      <th>windspeed</th>\n",
       "      <th>casual</th>\n",
       "      <th>registered</th>\n",
       "      <th>count</th>\n",
       "    </tr>\n",
       "  </thead>\n",
       "  <tbody>\n",
       "    <tr>\n",
       "      <th>0</th>\n",
       "      <td>2011-01-01 00:00:00</td>\n",
       "      <td>1</td>\n",
       "      <td>0</td>\n",
       "      <td>0</td>\n",
       "      <td>1</td>\n",
       "      <td>9.84</td>\n",
       "      <td>14.395</td>\n",
       "      <td>81</td>\n",
       "      <td>0.0</td>\n",
       "      <td>3</td>\n",
       "      <td>13</td>\n",
       "      <td>16</td>\n",
       "    </tr>\n",
       "    <tr>\n",
       "      <th>1</th>\n",
       "      <td>2011-01-01 01:00:00</td>\n",
       "      <td>1</td>\n",
       "      <td>0</td>\n",
       "      <td>0</td>\n",
       "      <td>1</td>\n",
       "      <td>9.02</td>\n",
       "      <td>13.635</td>\n",
       "      <td>80</td>\n",
       "      <td>0.0</td>\n",
       "      <td>8</td>\n",
       "      <td>32</td>\n",
       "      <td>40</td>\n",
       "    </tr>\n",
       "    <tr>\n",
       "      <th>2</th>\n",
       "      <td>2011-01-01 02:00:00</td>\n",
       "      <td>1</td>\n",
       "      <td>0</td>\n",
       "      <td>0</td>\n",
       "      <td>1</td>\n",
       "      <td>9.02</td>\n",
       "      <td>13.635</td>\n",
       "      <td>80</td>\n",
       "      <td>0.0</td>\n",
       "      <td>5</td>\n",
       "      <td>27</td>\n",
       "      <td>32</td>\n",
       "    </tr>\n",
       "    <tr>\n",
       "      <th>3</th>\n",
       "      <td>2011-01-01 03:00:00</td>\n",
       "      <td>1</td>\n",
       "      <td>0</td>\n",
       "      <td>0</td>\n",
       "      <td>1</td>\n",
       "      <td>9.84</td>\n",
       "      <td>14.395</td>\n",
       "      <td>75</td>\n",
       "      <td>0.0</td>\n",
       "      <td>3</td>\n",
       "      <td>10</td>\n",
       "      <td>13</td>\n",
       "    </tr>\n",
       "    <tr>\n",
       "      <th>4</th>\n",
       "      <td>2011-01-01 04:00:00</td>\n",
       "      <td>1</td>\n",
       "      <td>0</td>\n",
       "      <td>0</td>\n",
       "      <td>1</td>\n",
       "      <td>9.84</td>\n",
       "      <td>14.395</td>\n",
       "      <td>75</td>\n",
       "      <td>0.0</td>\n",
       "      <td>0</td>\n",
       "      <td>1</td>\n",
       "      <td>1</td>\n",
       "    </tr>\n",
       "  </tbody>\n",
       "</table>\n",
       "</div>"
      ],
      "text/plain": [
       "              datetime  season  holiday  workingday  weather  temp   atemp  \\\n",
       "0  2011-01-01 00:00:00       1        0           0        1  9.84  14.395   \n",
       "1  2011-01-01 01:00:00       1        0           0        1  9.02  13.635   \n",
       "2  2011-01-01 02:00:00       1        0           0        1  9.02  13.635   \n",
       "3  2011-01-01 03:00:00       1        0           0        1  9.84  14.395   \n",
       "4  2011-01-01 04:00:00       1        0           0        1  9.84  14.395   \n",
       "\n",
       "   humidity  windspeed  casual  registered  count  \n",
       "0        81        0.0       3          13     16  \n",
       "1        80        0.0       8          32     40  \n",
       "2        80        0.0       5          27     32  \n",
       "3        75        0.0       3          10     13  \n",
       "4        75        0.0       0           1      1  "
      ]
     },
     "execution_count": 6,
     "metadata": {},
     "output_type": "execute_result"
    }
   ],
   "source": [
    "# Ask to fill in\n",
    "def drop_features(rides):\n",
    "    features_to_drop = ['datetime', 'date', \n",
    "                        'month', 'hour', 'weekday', \n",
    "                        'season', 'weather']\n",
    "\n",
    "    rides = rides.drop(features_to_drop, axis=1)\n",
    "    return rides\n",
    "rides.head()"
   ]
  },
  {
   "cell_type": "markdown",
   "metadata": {},
   "source": [
    "Now we apply all the above defined functions to the `rides` dataframe."
   ]
  },
  {
   "cell_type": "code",
   "execution_count": 7,
   "metadata": {},
   "outputs": [],
   "source": [
    "def feature_engineering(rides):\n",
    "    rides = extract_from_datetime(rides)\n",
    "    rides = one_hot_encoding(rides)\n",
    "    rides = drop_features(rides)\n",
    "    return rides\n",
    "\n",
    "rides = feature_engineering(rides)\n",
    "target = rides[['casual', 'registered', 'count']]\n",
    "rides = rides.drop(['casual', 'registered', 'count'], axis=1)"
   ]
  },
  {
   "cell_type": "markdown",
   "metadata": {},
   "source": [
    "The reason we define the feature engineering as a function because we do not want to repeat the same steps for the dataset for `test.csv` file for which we will make predictions at the end."
   ]
  },
  {
   "cell_type": "code",
   "execution_count": 8,
   "metadata": {},
   "outputs": [
    {
     "data": {
      "text/html": [
       "<div>\n",
       "<style scoped>\n",
       "    .dataframe tbody tr th:only-of-type {\n",
       "        vertical-align: middle;\n",
       "    }\n",
       "\n",
       "    .dataframe tbody tr th {\n",
       "        vertical-align: top;\n",
       "    }\n",
       "\n",
       "    .dataframe thead th {\n",
       "        text-align: right;\n",
       "    }\n",
       "</style>\n",
       "<table border=\"1\" class=\"dataframe\">\n",
       "  <thead>\n",
       "    <tr style=\"text-align: right;\">\n",
       "      <th></th>\n",
       "      <th>holiday</th>\n",
       "      <th>workingday</th>\n",
       "      <th>temp</th>\n",
       "      <th>atemp</th>\n",
       "      <th>humidity</th>\n",
       "      <th>windspeed</th>\n",
       "      <th>season_1</th>\n",
       "      <th>season_2</th>\n",
       "      <th>season_3</th>\n",
       "      <th>season_4</th>\n",
       "      <th>...</th>\n",
       "      <th>hour_21</th>\n",
       "      <th>hour_22</th>\n",
       "      <th>hour_23</th>\n",
       "      <th>weekday_Friday</th>\n",
       "      <th>weekday_Monday</th>\n",
       "      <th>weekday_Saturday</th>\n",
       "      <th>weekday_Sunday</th>\n",
       "      <th>weekday_Thursday</th>\n",
       "      <th>weekday_Tuesday</th>\n",
       "      <th>weekday_Wednesday</th>\n",
       "    </tr>\n",
       "  </thead>\n",
       "  <tbody>\n",
       "    <tr>\n",
       "      <th>0</th>\n",
       "      <td>0</td>\n",
       "      <td>0</td>\n",
       "      <td>9.84</td>\n",
       "      <td>14.395</td>\n",
       "      <td>81</td>\n",
       "      <td>0.0</td>\n",
       "      <td>1</td>\n",
       "      <td>0</td>\n",
       "      <td>0</td>\n",
       "      <td>0</td>\n",
       "      <td>...</td>\n",
       "      <td>0</td>\n",
       "      <td>0</td>\n",
       "      <td>0</td>\n",
       "      <td>0</td>\n",
       "      <td>0</td>\n",
       "      <td>1</td>\n",
       "      <td>0</td>\n",
       "      <td>0</td>\n",
       "      <td>0</td>\n",
       "      <td>0</td>\n",
       "    </tr>\n",
       "    <tr>\n",
       "      <th>1</th>\n",
       "      <td>0</td>\n",
       "      <td>0</td>\n",
       "      <td>9.02</td>\n",
       "      <td>13.635</td>\n",
       "      <td>80</td>\n",
       "      <td>0.0</td>\n",
       "      <td>1</td>\n",
       "      <td>0</td>\n",
       "      <td>0</td>\n",
       "      <td>0</td>\n",
       "      <td>...</td>\n",
       "      <td>0</td>\n",
       "      <td>0</td>\n",
       "      <td>0</td>\n",
       "      <td>0</td>\n",
       "      <td>0</td>\n",
       "      <td>1</td>\n",
       "      <td>0</td>\n",
       "      <td>0</td>\n",
       "      <td>0</td>\n",
       "      <td>0</td>\n",
       "    </tr>\n",
       "    <tr>\n",
       "      <th>2</th>\n",
       "      <td>0</td>\n",
       "      <td>0</td>\n",
       "      <td>9.02</td>\n",
       "      <td>13.635</td>\n",
       "      <td>80</td>\n",
       "      <td>0.0</td>\n",
       "      <td>1</td>\n",
       "      <td>0</td>\n",
       "      <td>0</td>\n",
       "      <td>0</td>\n",
       "      <td>...</td>\n",
       "      <td>0</td>\n",
       "      <td>0</td>\n",
       "      <td>0</td>\n",
       "      <td>0</td>\n",
       "      <td>0</td>\n",
       "      <td>1</td>\n",
       "      <td>0</td>\n",
       "      <td>0</td>\n",
       "      <td>0</td>\n",
       "      <td>0</td>\n",
       "    </tr>\n",
       "    <tr>\n",
       "      <th>3</th>\n",
       "      <td>0</td>\n",
       "      <td>0</td>\n",
       "      <td>9.84</td>\n",
       "      <td>14.395</td>\n",
       "      <td>75</td>\n",
       "      <td>0.0</td>\n",
       "      <td>1</td>\n",
       "      <td>0</td>\n",
       "      <td>0</td>\n",
       "      <td>0</td>\n",
       "      <td>...</td>\n",
       "      <td>0</td>\n",
       "      <td>0</td>\n",
       "      <td>0</td>\n",
       "      <td>0</td>\n",
       "      <td>0</td>\n",
       "      <td>1</td>\n",
       "      <td>0</td>\n",
       "      <td>0</td>\n",
       "      <td>0</td>\n",
       "      <td>0</td>\n",
       "    </tr>\n",
       "    <tr>\n",
       "      <th>4</th>\n",
       "      <td>0</td>\n",
       "      <td>0</td>\n",
       "      <td>9.84</td>\n",
       "      <td>14.395</td>\n",
       "      <td>75</td>\n",
       "      <td>0.0</td>\n",
       "      <td>1</td>\n",
       "      <td>0</td>\n",
       "      <td>0</td>\n",
       "      <td>0</td>\n",
       "      <td>...</td>\n",
       "      <td>0</td>\n",
       "      <td>0</td>\n",
       "      <td>0</td>\n",
       "      <td>0</td>\n",
       "      <td>0</td>\n",
       "      <td>1</td>\n",
       "      <td>0</td>\n",
       "      <td>0</td>\n",
       "      <td>0</td>\n",
       "      <td>0</td>\n",
       "    </tr>\n",
       "  </tbody>\n",
       "</table>\n",
       "<p>5 rows × 57 columns</p>\n",
       "</div>"
      ],
      "text/plain": [
       "   holiday  workingday  temp   atemp  humidity  windspeed  season_1  season_2  \\\n",
       "0        0           0  9.84  14.395        81        0.0         1         0   \n",
       "1        0           0  9.02  13.635        80        0.0         1         0   \n",
       "2        0           0  9.02  13.635        80        0.0         1         0   \n",
       "3        0           0  9.84  14.395        75        0.0         1         0   \n",
       "4        0           0  9.84  14.395        75        0.0         1         0   \n",
       "\n",
       "   season_3  season_4        ...          hour_21  hour_22  hour_23  \\\n",
       "0         0         0        ...                0        0        0   \n",
       "1         0         0        ...                0        0        0   \n",
       "2         0         0        ...                0        0        0   \n",
       "3         0         0        ...                0        0        0   \n",
       "4         0         0        ...                0        0        0   \n",
       "\n",
       "   weekday_Friday  weekday_Monday  weekday_Saturday  weekday_Sunday  \\\n",
       "0               0               0                 1               0   \n",
       "1               0               0                 1               0   \n",
       "2               0               0                 1               0   \n",
       "3               0               0                 1               0   \n",
       "4               0               0                 1               0   \n",
       "\n",
       "   weekday_Thursday  weekday_Tuesday  weekday_Wednesday  \n",
       "0                 0                0                  0  \n",
       "1                 0                0                  0  \n",
       "2                 0                0                  0  \n",
       "3                 0                0                  0  \n",
       "4                 0                0                  0  \n",
       "\n",
       "[5 rows x 57 columns]"
      ]
     },
     "execution_count": 8,
     "metadata": {},
     "output_type": "execute_result"
    }
   ],
   "source": [
    "rides.head()"
   ]
  },
  {
   "cell_type": "code",
   "execution_count": 9,
   "metadata": {},
   "outputs": [
    {
     "data": {
      "text/plain": [
       "Index(['holiday', 'workingday', 'temp', 'atemp', 'humidity', 'windspeed',\n",
       "       'season_1', 'season_2', 'season_3', 'season_4', 'weather_1',\n",
       "       'weather_2', 'weather_3', 'weather_4', 'month_April', 'month_August',\n",
       "       'month_December', 'month_February', 'month_January', 'month_July',\n",
       "       'month_June', 'month_March', 'month_May', 'month_November',\n",
       "       'month_October', 'month_September', 'hour_00', 'hour_01', 'hour_02',\n",
       "       'hour_03', 'hour_04', 'hour_05', 'hour_06', 'hour_07', 'hour_08',\n",
       "       'hour_09', 'hour_10', 'hour_11', 'hour_12', 'hour_13', 'hour_14',\n",
       "       'hour_15', 'hour_16', 'hour_17', 'hour_18', 'hour_19', 'hour_20',\n",
       "       'hour_21', 'hour_22', 'hour_23', 'weekday_Friday', 'weekday_Monday',\n",
       "       'weekday_Saturday', 'weekday_Sunday', 'weekday_Thursday',\n",
       "       'weekday_Tuesday', 'weekday_Wednesday'],\n",
       "      dtype='object')"
      ]
     },
     "execution_count": 9,
     "metadata": {},
     "output_type": "execute_result"
    }
   ],
   "source": [
    "rides.columns"
   ]
  },
  {
   "cell_type": "code",
   "execution_count": 10,
   "metadata": {},
   "outputs": [
    {
     "data": {
      "text/plain": [
       "(10886, 57)"
      ]
     },
     "execution_count": 10,
     "metadata": {},
     "output_type": "execute_result"
    }
   ],
   "source": [
    "rides.shape"
   ]
  },
  {
   "cell_type": "code",
   "execution_count": 11,
   "metadata": {},
   "outputs": [],
   "source": [
    "X_train, X_valid, y_train, y_valid = train_test_split(rides, target['count'],\n",
    "                                        random_state = 0)"
   ]
  },
  {
   "cell_type": "code",
   "execution_count": 12,
   "metadata": {},
   "outputs": [
    {
     "name": "stdout",
     "output_type": "stream",
     "text": [
      "R-squared score (training): 0.641\n",
      "R-squared score (validation): 0.625\n"
     ]
    }
   ],
   "source": [
    "linreg = LinearRegression().fit(X_train, y_train)\n",
    "\n",
    "print('R-squared score (training): {:.3f}'\n",
    "     .format(linreg.score(X_train, y_train)))\n",
    "print('R-squared score (validation): {:.3f}'\n",
    "     .format(linreg.score(X_valid, y_valid)))"
   ]
  },
  {
   "cell_type": "markdown",
   "metadata": {},
   "source": [
    "You should get the output   \n",
    "`R-squared score (training): 0.641\n",
    "R-squared score (validation): 0.625`"
   ]
  },
  {
   "cell_type": "code",
   "execution_count": 13,
   "metadata": {},
   "outputs": [],
   "source": [
    "poly2 = PolynomialFeatures(degree=2)\n",
    "X_poly2 = poly2.fit_transform(rides)\n",
    "X_train_poly2, X_valid_poly2, y_train_poly2, y_valid_poly2 = train_test_split(X_poly2, \n",
    "                                                    target['count'], random_state = 0)"
   ]
  },
  {
   "cell_type": "code",
   "execution_count": 14,
   "metadata": {},
   "outputs": [
    {
     "name": "stdout",
     "output_type": "stream",
     "text": [
      "R-squared score (training): 0.736\n",
      "R-squared score (validation): 0.710\n"
     ]
    }
   ],
   "source": [
    "polyreg_ridge = Ridge(alpha=1000).fit(X_train_poly2, y_train_poly2)\n",
    "\n",
    "print('R-squared score (training): {:.3f}'\n",
    "     .format(polyreg_ridge.score(X_train_poly2, y_train_poly2)))\n",
    "print('R-squared score (validation): {:.3f}'\n",
    "     .format(polyreg_ridge.score(X_valid_poly2, y_valid_poly2)))"
   ]
  },
  {
   "cell_type": "code",
   "execution_count": 15,
   "metadata": {},
   "outputs": [
    {
     "name": "stdout",
     "output_type": "stream",
     "text": [
      "R-squared score (training): 0.870\n",
      "R-squared score (validation): 0.827\n"
     ]
    }
   ],
   "source": [
    "polyreg = LinearRegression().fit(X_train_poly2, y_train_poly2)\n",
    "\n",
    "polyreg_train_score = polyreg.score(X_train_poly2, y_train_poly2)\n",
    "polyreg_valid_score = polyreg.score(X_valid_poly2, y_valid_poly2)\n",
    "\n",
    "print('R-squared score (training): {:.3f}'\n",
    "     .format(polyreg_train_score))\n",
    "print('R-squared score (validation): {:.3f}'\n",
    "     .format(polyreg_valid_score))"
   ]
  },
  {
   "cell_type": "code",
   "execution_count": 16,
   "metadata": {},
   "outputs": [
    {
     "name": "stdout",
     "output_type": "stream",
     "text": [
      "R-squared score (training): 0.827\n",
      "R-squared score (validation): 0.797\n"
     ]
    }
   ],
   "source": [
    "polyreg_ridge = Ridge(alpha=100).fit(X_train_poly2, y_train_poly2)\n",
    "\n",
    "print('R-squared score (training): {:.3f}'\n",
    "     .format(polyreg_ridge.score(X_train_poly2, y_train_poly2)))\n",
    "print('R-squared score (validation): {:.3f}'\n",
    "     .format(polyreg_ridge.score(X_valid_poly2, y_valid_poly2)))"
   ]
  },
  {
   "cell_type": "code",
   "execution_count": 17,
   "metadata": {},
   "outputs": [
    {
     "name": "stdout",
     "output_type": "stream",
     "text": [
      "R-squared score (training): 0.691\n",
      "R-squared score (validation): 0.675\n"
     ]
    }
   ],
   "source": [
    "polyreg_lasso = Lasso(alpha=5).fit(X_train_poly2, y_train_poly2)\n",
    "\n",
    "print('R-squared score (training): {:.3f}'\n",
    "     .format(polyreg_lasso.score(X_train_poly2, y_train_poly2)))\n",
    "print('R-squared score (validation): {:.3f}'\n",
    "     .format(polyreg_lasso.score(X_valid_poly2, y_valid_poly2)))"
   ]
  },
  {
   "cell_type": "code",
   "execution_count": 18,
   "metadata": {},
   "outputs": [
    {
     "name": "stdout",
     "output_type": "stream",
     "text": [
      "R-squared score (training): 0.255\n",
      "R-squared score (validation): 0.266\n"
     ]
    }
   ],
   "source": [
    "polyreg_elasticnet = ElasticNet(alpha=1000).fit(X_train_poly2, y_train_poly2)\n",
    "\n",
    "print('R-squared score (training): {:.3f}'\n",
    "     .format(polyreg_elasticnet.score(X_train_poly2, y_train_poly2)))\n",
    "print('R-squared score (validation): {:.3f}'\n",
    "     .format(polyreg_elasticnet.score(X_valid_poly2, y_valid_poly2)))"
   ]
  },
  {
   "cell_type": "code",
   "execution_count": 20,
   "metadata": {},
   "outputs": [],
   "source": [
    "poly3 = PolynomialFeatures(degree=3)\n",
    "X_poly3 = poly3.fit_transform(rides)\n",
    "X_train_poly3, X_valid_poly3, y_train_poly3, y_valid_poly3 = train_test_split(X_poly3, \n",
    "                                                    target['count'], random_state = 0)"
   ]
  },
  {
   "cell_type": "code",
   "execution_count": 21,
   "metadata": {},
   "outputs": [
    {
     "name": "stdout",
     "output_type": "stream",
     "text": [
      "R-squared score (training): 0.972\n",
      "R-squared score (validation): -5059817.445\n"
     ]
    }
   ],
   "source": [
    "polyreg3 = LinearRegression().fit(X_train_poly3, y_train_poly3)\n",
    "\n",
    "polyreg3_train_score = polyreg3.score(X_train_poly3, y_train_poly3)\n",
    "polyreg3_valid_score = polyreg3.score(X_valid_poly3, y_valid_poly3)\n",
    "\n",
    "print('R-squared score (training): {:.3f}'\n",
    "     .format(polyreg3_train_score))\n",
    "print('R-squared score (validation): {:.3f}'\n",
    "     .format(polyreg3_valid_score))"
   ]
  },
  {
   "cell_type": "code",
   "execution_count": 22,
   "metadata": {},
   "outputs": [
    {
     "name": "stdout",
     "output_type": "stream",
     "text": [
      "R-squared score (training): 0.924\n",
      "R-squared score (validation): 0.822\n"
     ]
    }
   ],
   "source": [
    "polyreg_ridge = Ridge(alpha=100).fit(X_train_poly3, y_train_poly3)\n",
    "\n",
    "print('R-squared score (training): {:.3f}'\n",
    "     .format(polyreg_ridge.score(X_train_poly3, y_train_poly3)))\n",
    "print('R-squared score (validation): {:.3f}'\n",
    "     .format(polyreg_ridge.score(X_valid_poly3, y_valid_poly3)))"
   ]
  },
  {
   "cell_type": "code",
   "execution_count": 23,
   "metadata": {},
   "outputs": [
    {
     "name": "stdout",
     "output_type": "stream",
     "text": [
      "R-squared score (training): 0.904\n",
      "R-squared score (validation): 0.841\n"
     ]
    }
   ],
   "source": [
    "polyreg_ridge = Ridge(alpha=3000).fit(X_train_poly3, y_train_poly3)\n",
    "\n",
    "print('R-squared score (training): {:.3f}'\n",
    "     .format(polyreg_ridge.score(X_train_poly3, y_train_poly3)))\n",
    "print('R-squared score (validation): {:.3f}'\n",
    "     .format(polyreg_ridge.score(X_valid_poly3, y_valid_poly3)))"
   ]
  },
  {
   "cell_type": "code",
   "execution_count": 24,
   "metadata": {},
   "outputs": [
    {
     "name": "stdout",
     "output_type": "stream",
     "text": [
      "R-squared score (training): 0.901\n",
      "R-squared score (validation): 0.841\n"
     ]
    }
   ],
   "source": [
    "polyreg_ridge = Ridge(alpha=5000).fit(X_train_poly3, y_train_poly3)\n",
    "\n",
    "print('R-squared score (training): {:.3f}'\n",
    "     .format(polyreg_ridge.score(X_train_poly3, y_train_poly3)))\n",
    "print('R-squared score (validation): {:.3f}'\n",
    "     .format(polyreg_ridge.score(X_valid_poly3, y_valid_poly3)))"
   ]
  },
  {
   "cell_type": "code",
   "execution_count": 25,
   "metadata": {},
   "outputs": [
    {
     "name": "stdout",
     "output_type": "stream",
     "text": [
      "R-squared score (training): 0.858\n",
      "R-squared score (validation): 0.824\n"
     ]
    }
   ],
   "source": [
    "polyreg_lasso = Lasso(alpha=5).fit(X_train_poly3, y_train_poly3)\n",
    "\n",
    "print('R-squared score (training): {:.3f}'\n",
    "     .format(polyreg_lasso.score(X_train_poly3, y_train_poly3)))\n",
    "print('R-squared score (validation): {:.3f}'\n",
    "     .format(polyreg_lasso.score(X_valid_poly3, y_valid_poly3)))"
   ]
  },
  {
   "cell_type": "code",
   "execution_count": 26,
   "metadata": {},
   "outputs": [
    {
     "name": "stdout",
     "output_type": "stream",
     "text": [
      "R-squared score (training): 0.644\n",
      "R-squared score (validation): 0.635\n"
     ]
    }
   ],
   "source": [
    "polyreg_elasticnet = ElasticNet(alpha=1000).fit(X_train_poly3, y_train_poly3)\n",
    "\n",
    "print('R-squared score (training): {:.3f}'\n",
    "     .format(polyreg_elasticnet.score(X_train_poly3, y_train_poly3)))\n",
    "print('R-squared score (validation): {:.3f}'\n",
    "     .format(polyreg_elasticnet.score(X_valid_poly3, y_valid_poly3)))"
   ]
  },
  {
   "cell_type": "markdown",
   "metadata": {},
   "source": [
    "- \"In gradient based learning method, it is common to normalize the numerical variables to speed up the training\"\n",
    "- Optional PCA for degree 3?\n",
    "- Add learning rate\n",
    "- Add scaling\n",
    "- Three predictors\n",
    "- Add Bootstrapping and/or cross-validation"
   ]
  },
  {
   "cell_type": "markdown",
   "metadata": {},
   "source": [
    "Credit: Udacity\n",
    "\n",
    "Hyper-parameters tuning is an essential part of optimizing a model. It address both overfitting and underfitting. Tuning the hyper-parameters requires a good understand of the algorithm used, especially in context of reducing/increasing its complexity.\n",
    "is to give you some confidence to tackle the datasets and apply your knowledge while you are still learning and building the conceptual understanding. "
   ]
  },
  {
   "cell_type": "code",
   "execution_count": null,
   "metadata": {},
   "outputs": [],
   "source": []
  },
  {
   "cell_type": "code",
   "execution_count": null,
   "metadata": {},
   "outputs": [],
   "source": [
    "polyreg_ridge = Ridge(alpha=1).fit(X_train_poly, y_train_poly)\n",
    "\n",
    "print('R-squared score (training): {:.3f}'\n",
    "     .format(polyreg_ridge.score(X_train_poly, y_train_poly)))\n",
    "print('R-squared score (validation): {:.3f}'\n",
    "     .format(polyreg_ridge.score(X_valid_poly, y_valid_poly)))"
   ]
  },
  {
   "cell_type": "code",
   "execution_count": null,
   "metadata": {},
   "outputs": [],
   "source": [
    "polyreg_lasso = Lasso(alpha=1).fit(X_train_poly, y_train_poly)\n",
    "\n",
    "print('R-squared score (training): {:.3f}'\n",
    "     .format(polyreg_lasso.score(X_train_poly, y_train_poly)))\n",
    "print('R-squared score (validation): {:.3f}'\n",
    "     .format(polyreg_lasso.score(X_valid_poly, y_valid_poly)))"
   ]
  },
  {
   "cell_type": "code",
   "execution_count": null,
   "metadata": {},
   "outputs": [],
   "source": [
    "polyreg_elasticnet = ElasticNet(alpha=1).fit(X_train_poly, y_train_poly)\n",
    "\n",
    "print('R-squared score (training): {:.3f}'\n",
    "     .format(polyreg_elasticnet.score(X_train_poly, y_train_poly)))\n",
    "print('R-squared score (validation): {:.3f}'\n",
    "     .format(polyreg_elasticnet.score(X_valid_poly, y_valid_poly)))"
   ]
  }
 ],
 "metadata": {
  "kernelspec": {
   "display_name": "Python 3",
   "language": "python",
   "name": "python3"
  },
  "language_info": {
   "codemirror_mode": {
    "name": "ipython",
    "version": 3
   },
   "file_extension": ".py",
   "mimetype": "text/x-python",
   "name": "python",
   "nbconvert_exporter": "python",
   "pygments_lexer": "ipython3",
   "version": "3.6.8"
  }
 },
 "nbformat": 4,
 "nbformat_minor": 2
}
