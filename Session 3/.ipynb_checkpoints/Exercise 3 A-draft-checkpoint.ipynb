{
 "cells": [
  {
   "cell_type": "markdown",
   "metadata": {},
   "source": [
    "We import python modules:"
   ]
  },
  {
   "cell_type": "code",
   "execution_count": 1,
   "metadata": {},
   "outputs": [],
   "source": [
    "import pandas as pd\n",
    "import numpy as np\n",
    "import re\n",
    "\n",
    "import matplotlib.pyplot as plt\n",
    "import seaborn as sns\n",
    "%matplotlib inline\n",
    "\n",
    "from sklearn.linear_model import LinearRegression, Lasso, Ridge, ElasticNet\n",
    "\n",
    "import warnings\n",
    "warnings.simplefilter('ignore')"
   ]
  },
  {
   "cell_type": "code",
   "execution_count": 2,
   "metadata": {},
   "outputs": [
    {
     "data": {
      "text/html": [
       "<div>\n",
       "<style scoped>\n",
       "    .dataframe tbody tr th:only-of-type {\n",
       "        vertical-align: middle;\n",
       "    }\n",
       "\n",
       "    .dataframe tbody tr th {\n",
       "        vertical-align: top;\n",
       "    }\n",
       "\n",
       "    .dataframe thead th {\n",
       "        text-align: right;\n",
       "    }\n",
       "</style>\n",
       "<table border=\"1\" class=\"dataframe\">\n",
       "  <thead>\n",
       "    <tr style=\"text-align: right;\">\n",
       "      <th></th>\n",
       "      <th>Id</th>\n",
       "      <th>MSSubClass</th>\n",
       "      <th>MSZoning</th>\n",
       "      <th>LotFrontage</th>\n",
       "      <th>LotArea</th>\n",
       "      <th>Street</th>\n",
       "      <th>Alley</th>\n",
       "      <th>LotShape</th>\n",
       "      <th>LandContour</th>\n",
       "      <th>Utilities</th>\n",
       "      <th>...</th>\n",
       "      <th>PoolArea</th>\n",
       "      <th>PoolQC</th>\n",
       "      <th>Fence</th>\n",
       "      <th>MiscFeature</th>\n",
       "      <th>MiscVal</th>\n",
       "      <th>MoSold</th>\n",
       "      <th>YrSold</th>\n",
       "      <th>SaleType</th>\n",
       "      <th>SaleCondition</th>\n",
       "      <th>SalePrice</th>\n",
       "    </tr>\n",
       "  </thead>\n",
       "  <tbody>\n",
       "    <tr>\n",
       "      <th>0</th>\n",
       "      <td>1</td>\n",
       "      <td>60</td>\n",
       "      <td>RL</td>\n",
       "      <td>65.0</td>\n",
       "      <td>8450</td>\n",
       "      <td>Pave</td>\n",
       "      <td>NaN</td>\n",
       "      <td>Reg</td>\n",
       "      <td>Lvl</td>\n",
       "      <td>AllPub</td>\n",
       "      <td>...</td>\n",
       "      <td>0</td>\n",
       "      <td>NaN</td>\n",
       "      <td>NaN</td>\n",
       "      <td>NaN</td>\n",
       "      <td>0</td>\n",
       "      <td>2</td>\n",
       "      <td>2008</td>\n",
       "      <td>WD</td>\n",
       "      <td>Normal</td>\n",
       "      <td>208500</td>\n",
       "    </tr>\n",
       "    <tr>\n",
       "      <th>1</th>\n",
       "      <td>2</td>\n",
       "      <td>20</td>\n",
       "      <td>RL</td>\n",
       "      <td>80.0</td>\n",
       "      <td>9600</td>\n",
       "      <td>Pave</td>\n",
       "      <td>NaN</td>\n",
       "      <td>Reg</td>\n",
       "      <td>Lvl</td>\n",
       "      <td>AllPub</td>\n",
       "      <td>...</td>\n",
       "      <td>0</td>\n",
       "      <td>NaN</td>\n",
       "      <td>NaN</td>\n",
       "      <td>NaN</td>\n",
       "      <td>0</td>\n",
       "      <td>5</td>\n",
       "      <td>2007</td>\n",
       "      <td>WD</td>\n",
       "      <td>Normal</td>\n",
       "      <td>181500</td>\n",
       "    </tr>\n",
       "    <tr>\n",
       "      <th>2</th>\n",
       "      <td>3</td>\n",
       "      <td>60</td>\n",
       "      <td>RL</td>\n",
       "      <td>68.0</td>\n",
       "      <td>11250</td>\n",
       "      <td>Pave</td>\n",
       "      <td>NaN</td>\n",
       "      <td>IR1</td>\n",
       "      <td>Lvl</td>\n",
       "      <td>AllPub</td>\n",
       "      <td>...</td>\n",
       "      <td>0</td>\n",
       "      <td>NaN</td>\n",
       "      <td>NaN</td>\n",
       "      <td>NaN</td>\n",
       "      <td>0</td>\n",
       "      <td>9</td>\n",
       "      <td>2008</td>\n",
       "      <td>WD</td>\n",
       "      <td>Normal</td>\n",
       "      <td>223500</td>\n",
       "    </tr>\n",
       "    <tr>\n",
       "      <th>3</th>\n",
       "      <td>4</td>\n",
       "      <td>70</td>\n",
       "      <td>RL</td>\n",
       "      <td>60.0</td>\n",
       "      <td>9550</td>\n",
       "      <td>Pave</td>\n",
       "      <td>NaN</td>\n",
       "      <td>IR1</td>\n",
       "      <td>Lvl</td>\n",
       "      <td>AllPub</td>\n",
       "      <td>...</td>\n",
       "      <td>0</td>\n",
       "      <td>NaN</td>\n",
       "      <td>NaN</td>\n",
       "      <td>NaN</td>\n",
       "      <td>0</td>\n",
       "      <td>2</td>\n",
       "      <td>2006</td>\n",
       "      <td>WD</td>\n",
       "      <td>Abnorml</td>\n",
       "      <td>140000</td>\n",
       "    </tr>\n",
       "    <tr>\n",
       "      <th>4</th>\n",
       "      <td>5</td>\n",
       "      <td>60</td>\n",
       "      <td>RL</td>\n",
       "      <td>84.0</td>\n",
       "      <td>14260</td>\n",
       "      <td>Pave</td>\n",
       "      <td>NaN</td>\n",
       "      <td>IR1</td>\n",
       "      <td>Lvl</td>\n",
       "      <td>AllPub</td>\n",
       "      <td>...</td>\n",
       "      <td>0</td>\n",
       "      <td>NaN</td>\n",
       "      <td>NaN</td>\n",
       "      <td>NaN</td>\n",
       "      <td>0</td>\n",
       "      <td>12</td>\n",
       "      <td>2008</td>\n",
       "      <td>WD</td>\n",
       "      <td>Normal</td>\n",
       "      <td>250000</td>\n",
       "    </tr>\n",
       "  </tbody>\n",
       "</table>\n",
       "<p>5 rows × 81 columns</p>\n",
       "</div>"
      ],
      "text/plain": [
       "   Id  MSSubClass MSZoning  LotFrontage  LotArea Street Alley LotShape  \\\n",
       "0   1          60       RL         65.0     8450   Pave   NaN      Reg   \n",
       "1   2          20       RL         80.0     9600   Pave   NaN      Reg   \n",
       "2   3          60       RL         68.0    11250   Pave   NaN      IR1   \n",
       "3   4          70       RL         60.0     9550   Pave   NaN      IR1   \n",
       "4   5          60       RL         84.0    14260   Pave   NaN      IR1   \n",
       "\n",
       "  LandContour Utilities    ...     PoolArea PoolQC Fence MiscFeature MiscVal  \\\n",
       "0         Lvl    AllPub    ...            0    NaN   NaN         NaN       0   \n",
       "1         Lvl    AllPub    ...            0    NaN   NaN         NaN       0   \n",
       "2         Lvl    AllPub    ...            0    NaN   NaN         NaN       0   \n",
       "3         Lvl    AllPub    ...            0    NaN   NaN         NaN       0   \n",
       "4         Lvl    AllPub    ...            0    NaN   NaN         NaN       0   \n",
       "\n",
       "  MoSold YrSold  SaleType  SaleCondition  SalePrice  \n",
       "0      2   2008        WD         Normal     208500  \n",
       "1      5   2007        WD         Normal     181500  \n",
       "2      9   2008        WD         Normal     223500  \n",
       "3      2   2006        WD        Abnorml     140000  \n",
       "4     12   2008        WD         Normal     250000  \n",
       "\n",
       "[5 rows x 81 columns]"
      ]
     },
     "execution_count": 2,
     "metadata": {},
     "output_type": "execute_result"
    }
   ],
   "source": [
    "path = 'house-prices-advanced-regression-techniques/'\n",
    "housing = pd.read_csv(path + 'train.csv')\n",
    "housing.head()"
   ]
  },
  {
   "cell_type": "code",
   "execution_count": 3,
   "metadata": {},
   "outputs": [
    {
     "data": {
      "text/plain": [
       "(1460, 81)"
      ]
     },
     "execution_count": 3,
     "metadata": {},
     "output_type": "execute_result"
    }
   ],
   "source": [
    "housing.shape"
   ]
  },
  {
   "cell_type": "markdown",
   "metadata": {},
   "source": [
    "There are ***81 columns in total***. Before looking deeply into the columns, we might want to first discard the columns that have a lot of missing values. We can revisit later to include and process all the columns, but at first we would want to work with fewer columns."
   ]
  },
  {
   "cell_type": "code",
   "execution_count": 4,
   "metadata": {},
   "outputs": [
    {
     "data": {
      "text/plain": [
       "Id                  0\n",
       "MSSubClass          0\n",
       "MSZoning            0\n",
       "LotFrontage       259\n",
       "LotArea             0\n",
       "Street              0\n",
       "Alley            1369\n",
       "LotShape            0\n",
       "LandContour         0\n",
       "Utilities           0\n",
       "LotConfig           0\n",
       "LandSlope           0\n",
       "Neighborhood        0\n",
       "Condition1          0\n",
       "Condition2          0\n",
       "BldgType            0\n",
       "HouseStyle          0\n",
       "OverallQual         0\n",
       "OverallCond         0\n",
       "YearBuilt           0\n",
       "YearRemodAdd        0\n",
       "RoofStyle           0\n",
       "RoofMatl            0\n",
       "Exterior1st         0\n",
       "Exterior2nd         0\n",
       "MasVnrType          8\n",
       "MasVnrArea          8\n",
       "ExterQual           0\n",
       "ExterCond           0\n",
       "Foundation          0\n",
       "                 ... \n",
       "BedroomAbvGr        0\n",
       "KitchenAbvGr        0\n",
       "KitchenQual         0\n",
       "TotRmsAbvGrd        0\n",
       "Functional          0\n",
       "Fireplaces          0\n",
       "FireplaceQu       690\n",
       "GarageType         81\n",
       "GarageYrBlt        81\n",
       "GarageFinish       81\n",
       "GarageCars          0\n",
       "GarageArea          0\n",
       "GarageQual         81\n",
       "GarageCond         81\n",
       "PavedDrive          0\n",
       "WoodDeckSF          0\n",
       "OpenPorchSF         0\n",
       "EnclosedPorch       0\n",
       "3SsnPorch           0\n",
       "ScreenPorch         0\n",
       "PoolArea            0\n",
       "PoolQC           1453\n",
       "Fence            1179\n",
       "MiscFeature      1406\n",
       "MiscVal             0\n",
       "MoSold              0\n",
       "YrSold              0\n",
       "SaleType            0\n",
       "SaleCondition       0\n",
       "SalePrice           0\n",
       "Length: 81, dtype: int64"
      ]
     },
     "execution_count": 4,
     "metadata": {},
     "output_type": "execute_result"
    }
   ],
   "source": [
    "housing.isnull().sum()"
   ]
  },
  {
   "cell_type": "markdown",
   "metadata": {},
   "source": [
    "We discard all the columns that have more than 100 missing values."
   ]
  },
  {
   "cell_type": "code",
   "execution_count": 5,
   "metadata": {},
   "outputs": [],
   "source": [
    "housing = housing.loc[:, housing.isnull().sum() < 100]"
   ]
  },
  {
   "cell_type": "markdown",
   "metadata": {},
   "source": [
    "Let us look at the remaining columns."
   ]
  },
  {
   "cell_type": "code",
   "execution_count": 6,
   "metadata": {},
   "outputs": [
    {
     "data": {
      "text/plain": [
       "Index(['Id', 'MSSubClass', 'MSZoning', 'LotArea', 'Street', 'LotShape',\n",
       "       'LandContour', 'Utilities', 'LotConfig', 'LandSlope', 'Neighborhood',\n",
       "       'Condition1', 'Condition2', 'BldgType', 'HouseStyle', 'OverallQual',\n",
       "       'OverallCond', 'YearBuilt', 'YearRemodAdd', 'RoofStyle', 'RoofMatl',\n",
       "       'Exterior1st', 'Exterior2nd', 'MasVnrType', 'MasVnrArea', 'ExterQual',\n",
       "       'ExterCond', 'Foundation', 'BsmtQual', 'BsmtCond', 'BsmtExposure',\n",
       "       'BsmtFinType1', 'BsmtFinSF1', 'BsmtFinType2', 'BsmtFinSF2', 'BsmtUnfSF',\n",
       "       'TotalBsmtSF', 'Heating', 'HeatingQC', 'CentralAir', 'Electrical',\n",
       "       '1stFlrSF', '2ndFlrSF', 'LowQualFinSF', 'GrLivArea', 'BsmtFullBath',\n",
       "       'BsmtHalfBath', 'FullBath', 'HalfBath', 'BedroomAbvGr', 'KitchenAbvGr',\n",
       "       'KitchenQual', 'TotRmsAbvGrd', 'Functional', 'Fireplaces', 'GarageType',\n",
       "       'GarageYrBlt', 'GarageFinish', 'GarageCars', 'GarageArea', 'GarageQual',\n",
       "       'GarageCond', 'PavedDrive', 'WoodDeckSF', 'OpenPorchSF',\n",
       "       'EnclosedPorch', '3SsnPorch', 'ScreenPorch', 'PoolArea', 'MiscVal',\n",
       "       'MoSold', 'YrSold', 'SaleType', 'SaleCondition', 'SalePrice'],\n",
       "      dtype='object')"
      ]
     },
     "execution_count": 6,
     "metadata": {},
     "output_type": "execute_result"
    }
   ],
   "source": [
    "housing.columns"
   ]
  },
  {
   "cell_type": "markdown",
   "metadata": {},
   "source": [
    "Let us see how does the columns correlate with the *SalePrice* using the Pearson correlation coefficients that we learned in the first session."
   ]
  },
  {
   "cell_type": "code",
   "execution_count": 7,
   "metadata": {},
   "outputs": [
    {
     "data": {
      "text/plain": [
       "Id              -0.021917\n",
       "MSSubClass      -0.084284\n",
       "LotArea          0.263843\n",
       "OverallQual      0.790982\n",
       "OverallCond     -0.077856\n",
       "YearBuilt        0.522897\n",
       "YearRemodAdd     0.507101\n",
       "MasVnrArea       0.477493\n",
       "BsmtFinSF1       0.386420\n",
       "BsmtFinSF2      -0.011378\n",
       "BsmtUnfSF        0.214479\n",
       "TotalBsmtSF      0.613581\n",
       "1stFlrSF         0.605852\n",
       "2ndFlrSF         0.319334\n",
       "LowQualFinSF    -0.025606\n",
       "GrLivArea        0.708624\n",
       "BsmtFullBath     0.227122\n",
       "BsmtHalfBath    -0.016844\n",
       "FullBath         0.560664\n",
       "HalfBath         0.284108\n",
       "BedroomAbvGr     0.168213\n",
       "KitchenAbvGr    -0.135907\n",
       "TotRmsAbvGrd     0.533723\n",
       "Fireplaces       0.466929\n",
       "GarageYrBlt      0.486362\n",
       "GarageCars       0.640409\n",
       "GarageArea       0.623431\n",
       "WoodDeckSF       0.324413\n",
       "OpenPorchSF      0.315856\n",
       "EnclosedPorch   -0.128578\n",
       "3SsnPorch        0.044584\n",
       "ScreenPorch      0.111447\n",
       "PoolArea         0.092404\n",
       "MiscVal         -0.021190\n",
       "MoSold           0.046432\n",
       "YrSold          -0.028923\n",
       "SalePrice        1.000000\n",
       "Name: SalePrice, dtype: float64"
      ]
     },
     "execution_count": 7,
     "metadata": {},
     "output_type": "execute_result"
    }
   ],
   "source": [
    "correlations = housing.corr()['SalePrice']\n",
    "correlations"
   ]
  },
  {
   "cell_type": "markdown",
   "metadata": {},
   "source": [
    "Let us select only those columns that have a correlation co-efficient of 0.5 or higher in magnitude with the *SalePrice* column."
   ]
  },
  {
   "cell_type": "code",
   "execution_count": 8,
   "metadata": {},
   "outputs": [
    {
     "data": {
      "text/plain": [
       "OverallQual     0.790982\n",
       "YearBuilt       0.522897\n",
       "YearRemodAdd    0.507101\n",
       "TotalBsmtSF     0.613581\n",
       "1stFlrSF        0.605852\n",
       "GrLivArea       0.708624\n",
       "FullBath        0.560664\n",
       "TotRmsAbvGrd    0.533723\n",
       "GarageCars      0.640409\n",
       "GarageArea      0.623431\n",
       "SalePrice       1.000000\n",
       "Name: SalePrice, dtype: float64"
      ]
     },
     "execution_count": 8,
     "metadata": {},
     "output_type": "execute_result"
    }
   ],
   "source": [
    "correlations[(correlations > 0.5) | (correlations < -0.5)]"
   ]
  },
  {
   "cell_type": "markdown",
   "metadata": {},
   "source": [
    "We pick a few columns for now to train a model. We can anytime revisit and try a different set of columns for prediction."
   ]
  },
  {
   "cell_type": "code",
   "execution_count": 9,
   "metadata": {},
   "outputs": [
    {
     "data": {
      "text/html": [
       "<div>\n",
       "<style scoped>\n",
       "    .dataframe tbody tr th:only-of-type {\n",
       "        vertical-align: middle;\n",
       "    }\n",
       "\n",
       "    .dataframe tbody tr th {\n",
       "        vertical-align: top;\n",
       "    }\n",
       "\n",
       "    .dataframe thead th {\n",
       "        text-align: right;\n",
       "    }\n",
       "</style>\n",
       "<table border=\"1\" class=\"dataframe\">\n",
       "  <thead>\n",
       "    <tr style=\"text-align: right;\">\n",
       "      <th></th>\n",
       "      <th>OverallQual</th>\n",
       "      <th>YearBuilt</th>\n",
       "      <th>YearRemodAdd</th>\n",
       "      <th>TotalBsmtSF</th>\n",
       "      <th>1stFlrSF</th>\n",
       "      <th>GrLivArea</th>\n",
       "      <th>FullBath</th>\n",
       "      <th>TotRmsAbvGrd</th>\n",
       "      <th>GarageCars</th>\n",
       "      <th>GarageArea</th>\n",
       "      <th>Fireplaces</th>\n",
       "      <th>LotArea</th>\n",
       "    </tr>\n",
       "  </thead>\n",
       "  <tbody>\n",
       "    <tr>\n",
       "      <th>0</th>\n",
       "      <td>7</td>\n",
       "      <td>2003</td>\n",
       "      <td>2003</td>\n",
       "      <td>856</td>\n",
       "      <td>856</td>\n",
       "      <td>1710</td>\n",
       "      <td>2</td>\n",
       "      <td>8</td>\n",
       "      <td>2</td>\n",
       "      <td>548</td>\n",
       "      <td>0</td>\n",
       "      <td>8450</td>\n",
       "    </tr>\n",
       "    <tr>\n",
       "      <th>1</th>\n",
       "      <td>6</td>\n",
       "      <td>1976</td>\n",
       "      <td>1976</td>\n",
       "      <td>1262</td>\n",
       "      <td>1262</td>\n",
       "      <td>1262</td>\n",
       "      <td>2</td>\n",
       "      <td>6</td>\n",
       "      <td>2</td>\n",
       "      <td>460</td>\n",
       "      <td>1</td>\n",
       "      <td>9600</td>\n",
       "    </tr>\n",
       "    <tr>\n",
       "      <th>2</th>\n",
       "      <td>7</td>\n",
       "      <td>2001</td>\n",
       "      <td>2002</td>\n",
       "      <td>920</td>\n",
       "      <td>920</td>\n",
       "      <td>1786</td>\n",
       "      <td>2</td>\n",
       "      <td>6</td>\n",
       "      <td>2</td>\n",
       "      <td>608</td>\n",
       "      <td>1</td>\n",
       "      <td>11250</td>\n",
       "    </tr>\n",
       "    <tr>\n",
       "      <th>3</th>\n",
       "      <td>7</td>\n",
       "      <td>1915</td>\n",
       "      <td>1970</td>\n",
       "      <td>756</td>\n",
       "      <td>961</td>\n",
       "      <td>1717</td>\n",
       "      <td>1</td>\n",
       "      <td>7</td>\n",
       "      <td>3</td>\n",
       "      <td>642</td>\n",
       "      <td>1</td>\n",
       "      <td>9550</td>\n",
       "    </tr>\n",
       "    <tr>\n",
       "      <th>4</th>\n",
       "      <td>8</td>\n",
       "      <td>2000</td>\n",
       "      <td>2000</td>\n",
       "      <td>1145</td>\n",
       "      <td>1145</td>\n",
       "      <td>2198</td>\n",
       "      <td>2</td>\n",
       "      <td>9</td>\n",
       "      <td>3</td>\n",
       "      <td>836</td>\n",
       "      <td>1</td>\n",
       "      <td>14260</td>\n",
       "    </tr>\n",
       "  </tbody>\n",
       "</table>\n",
       "</div>"
      ],
      "text/plain": [
       "   OverallQual  YearBuilt  YearRemodAdd  TotalBsmtSF  1stFlrSF  GrLivArea  \\\n",
       "0            7       2003          2003          856       856       1710   \n",
       "1            6       1976          1976         1262      1262       1262   \n",
       "2            7       2001          2002          920       920       1786   \n",
       "3            7       1915          1970          756       961       1717   \n",
       "4            8       2000          2000         1145      1145       2198   \n",
       "\n",
       "   FullBath  TotRmsAbvGrd  GarageCars  GarageArea  Fireplaces  LotArea  \n",
       "0         2             8           2         548           0     8450  \n",
       "1         2             6           2         460           1     9600  \n",
       "2         2             6           2         608           1    11250  \n",
       "3         1             7           3         642           1     9550  \n",
       "4         2             9           3         836           1    14260  "
      ]
     },
     "execution_count": 9,
     "metadata": {},
     "output_type": "execute_result"
    }
   ],
   "source": [
    "y = housing['SalePrice']\n",
    "\n",
    "predictor_cols = ['OverallQual', 'YearBuilt', \n",
    "                  'YearRemodAdd', 'TotalBsmtSF', \n",
    "                  '1stFlrSF', 'GrLivArea', \n",
    "                  'FullBath', 'TotRmsAbvGrd', \n",
    "                  'GarageCars', 'GarageArea',\n",
    "                 'Fireplaces', 'LotArea']\n",
    "\n",
    "X = housing[predictor_cols]\n",
    "X.head()"
   ]
  },
  {
   "cell_type": "code",
   "execution_count": 10,
   "metadata": {},
   "outputs": [],
   "source": [
    "from sklearn.model_selection import train_test_split\n",
    "X_train, X_test, y_train, y_test = train_test_split(X, y,\n",
    "                                        random_state = 0)"
   ]
  },
  {
   "cell_type": "code",
   "execution_count": 11,
   "metadata": {},
   "outputs": [
    {
     "name": "stdout",
     "output_type": "stream",
     "text": [
      "R-squared score (training): 0.812\n",
      "R-squared score (test): 0.677\n"
     ]
    }
   ],
   "source": [
    "linreg = LinearRegression().fit(X_train, y_train)\n",
    "\n",
    "print('R-squared score (training): {:.3f}'\n",
    "     .format(linreg.score(X_train, y_train)))\n",
    "print('R-squared score (test): {:.3f}'\n",
    "     .format(linreg.score(X_test, y_test)))"
   ]
  },
  {
   "cell_type": "markdown",
   "metadata": {},
   "source": [
    "Linear regression model is probably underfitting since it is not performing that well on training set either. To increase the complexity, we use polynomial regression.\n",
    "\n",
    "ADD MORE EXPLANATION."
   ]
  },
  {
   "cell_type": "markdown",
   "metadata": {},
   "source": [
    " We transform the original input features using [`sklearn.preprocessing.PolynomialFeatures`](https://scikit-learn.org/stable/modules/generated/sklearn.preprocessing.PolynomialFeatures.html) to add polynomial features up to degree 2 (quadratic)."
   ]
  },
  {
   "cell_type": "code",
   "execution_count": 12,
   "metadata": {},
   "outputs": [],
   "source": [
    "from sklearn.preprocessing import PolynomialFeatures\n",
    "poly = PolynomialFeatures(degree=2)\n",
    "X_poly = poly.fit_transform(X)\n",
    "X_train_poly, X_test_poly, y_train_poly, y_test_poly = train_test_split(X_poly, y,\n",
    "                                                   random_state = 0)"
   ]
  },
  {
   "cell_type": "markdown",
   "metadata": {},
   "source": [
    "Then we use the built-in [`LinearRegression()`](https://scikit-learn.org/stable/modules/generated/sklearn.linear_model.LinearRegression.html) with the polynomial features to build a polynomial regression model."
   ]
  },
  {
   "cell_type": "code",
   "execution_count": 13,
   "metadata": {},
   "outputs": [
    {
     "name": "stdout",
     "output_type": "stream",
     "text": [
      "R-squared score (training): 0.870\n",
      "R-squared score (test): 0.810\n"
     ]
    }
   ],
   "source": [
    "polyreg = LinearRegression().fit(X_train_poly, y_train_poly)\n",
    "\n",
    "polyreg_train_score = polyreg.score(X_train_poly, y_train_poly)\n",
    "polyreg_test_score = polyreg.score(X_test_poly, y_test_poly)\n",
    "\n",
    "print('R-squared score (training): {:.3f}'\n",
    "     .format(polyreg_train_score))\n",
    "print('R-squared score (test): {:.3f}'\n",
    "     .format(polyreg_test_score))"
   ]
  },
  {
   "cell_type": "markdown",
   "metadata": {},
   "source": [
    "It is great to see that the performance has increased significantly by using polynomial features."
   ]
  },
  {
   "cell_type": "markdown",
   "metadata": {},
   "source": [
    "On account of increased complexity, polynomial regression models are prone to overfitting. So,  they are often coupled with Ridge regression or Lasso regression - extensions of linear regression algorithm that uses regularization, a method to address overfitting.\n",
    "\n",
    "#### Regularization:\n",
    "Regularization adds a penalty term called regularization parameter (alpha) to penalize the weights keeping them smaller and making the model simpler.\n",
    "\n",
    "To the linear regression formulation, we add the model weights multiplied by the regularization parameter (alpha) to the cost function so that when the learning process minimizes the cost function while updating the weights, it automatically keeps the weights in check. There are two common ways to add the weights term (using $L1$ and $L2$-norms) and hence the two algorithms.\n",
    "\n",
    "Cost function for Linear regression:\n",
    "$$ J = \\frac{1}{2 n} \\sum_{i=1}^n (y^{(i)} - y_{pred}^{(i)})^2 $$\n",
    "\n",
    "Cost function for Ridge regression ($L2$-norm):\n",
    "$$ J = \\frac{1}{2 n} \\sum_{i=1}^n (y^{(i)} - y_{pred}^{(i)})^2 + \\alpha \\sum_{j=1}^m w_j^2$$\n",
    "\n",
    "Cost function for Lasso regression ($L1$-norm):\n",
    "$$ J = \\frac{1}{2 n} \\sum_{i=1}^n (y^{(i)} - y_{pred}^{(i)})^2 + \\alpha \\sum_{j=1}^m |w_j|$$\n",
    "\n",
    "Regularization along with drop out are most commonly used and crucial techniques to address overfitting in deep neural networks and it works the same way by adding weight term to the cost function using either $L1$ or $L2$-normalization. "
   ]
  },
  {
   "cell_type": "code",
   "execution_count": 14,
   "metadata": {},
   "outputs": [
    {
     "name": "stdout",
     "output_type": "stream",
     "text": [
      "R-squared score (training): 0.890\n",
      "R-squared score (test): 0.797\n"
     ]
    }
   ],
   "source": [
    "polyreg_lasso = Lasso(alpha=100).fit(X_train_poly, y_train_poly)\n",
    "\n",
    "print('R-squared score (training): {:.3f}'\n",
    "     .format(polyreg_lasso.score(X_train_poly, y_train_poly)))\n",
    "print('R-squared score (test): {:.3f}'\n",
    "     .format(polyreg_lasso.score(X_test_poly, y_test_poly)))"
   ]
  },
  {
   "cell_type": "code",
   "execution_count": 15,
   "metadata": {},
   "outputs": [
    {
     "name": "stdout",
     "output_type": "stream",
     "text": [
      "R-squared score (training): 0.893\n",
      "R-squared score (test): 0.814\n"
     ]
    }
   ],
   "source": [
    "polyreg_ridge = Ridge(alpha=100).fit(X_train_poly, y_train_poly)\n",
    "\n",
    "print('R-squared score (training): {:.3f}'\n",
    "     .format(polyreg_ridge.score(X_train_poly, y_train_poly)))\n",
    "print('R-squared score (test): {:.3f}'\n",
    "     .format(polyreg_ridge.score(X_test_poly, y_test_poly)))"
   ]
  },
  {
   "cell_type": "code",
   "execution_count": 16,
   "metadata": {},
   "outputs": [
    {
     "name": "stdout",
     "output_type": "stream",
     "text": [
      "R-squared score (training): 0.886\n",
      "R-squared score (test): 0.832\n"
     ]
    }
   ],
   "source": [
    "polyreg_elasticnet = ElasticNet(alpha=200).fit(X_train_poly, y_train_poly)\n",
    "\n",
    "print('R-squared score (training): {:.3f}'\n",
    "     .format(polyreg_elasticnet.score(X_train_poly, y_train_poly)))\n",
    "print('R-squared score (test): {:.3f}'\n",
    "     .format(polyreg_elasticnet.score(X_test_poly, y_test_poly)))"
   ]
  },
  {
   "cell_type": "code",
   "execution_count": 17,
   "metadata": {},
   "outputs": [],
   "source": [
    "def ridge_validation_curve(alpha):\n",
    "    polyreg_ridge = Ridge(alpha=alpha).fit(X_train_poly, y_train_poly)\n",
    "\n",
    "    train_score = polyreg_ridge.score(X_train_poly, y_train_poly)\n",
    "    test_score = polyreg_ridge.score(X_test_poly, y_test_poly)\n",
    "    return train_score, test_score\n",
    "\n",
    "def lasso_validation_curve(alpha):\n",
    "    polyreg_lasso = Lasso(alpha=alpha).fit(X_train_poly, y_train_poly)\n",
    "\n",
    "    train_score = polyreg_lasso.score(X_train_poly, y_train_poly)\n",
    "    test_score = polyreg_lasso.score(X_test_poly, y_test_poly)\n",
    "    return train_score, test_score\n",
    "\n",
    "def elasticnet_validation_curve(alpha):\n",
    "    polyreg_elasticnet = ElasticNet(alpha=alpha).fit(X_train_poly, y_train_poly)\n",
    "\n",
    "    train_score = polyreg_elasticnet.score(X_train_poly, y_train_poly)\n",
    "    test_score = polyreg_elasticnet.score(X_test_poly, y_test_poly)\n",
    "    return train_score, test_score\n",
    "\n",
    "alphas = [0.1, 1, 5, 25, 50, 75, 100, 200, 300, 400, 500, 750, 1000, 2000]\n",
    "scores_lasso = [lasso_validation_curve(alpha) for alpha in alphas]\n",
    "scores_lasso_train = [s[0] for s in scores_lasso]\n",
    "scores_lasso_test = [s[1] for s in scores_lasso]\n",
    "\n",
    "scores_elasticnet = [elasticnet_validation_curve(alpha) for alpha in alphas]\n",
    "scores_elasticnet_train = [s[0] for s in scores_elasticnet]\n",
    "scores_elasticnet_test = [s[1] for s in scores_elasticnet]\n",
    "\n",
    "scores_ridge = [ridge_validation_curve(alpha) for alpha in alphas]\n",
    "scores_ridge_train = [s[0] for s in scores_ridge]\n",
    "scores_ridge_test = [s[1] for s in scores_ridge]\n",
    "\n",
    "scores_poly_train = [polyreg_train_score]*len(alphas)\n",
    "scores_poly_test = [polyreg_test_score]*len(alphas)"
   ]
  },
  {
   "cell_type": "code",
   "execution_count": 18,
   "metadata": {},
   "outputs": [
    {
     "data": {
      "text/html": [
       "<div>\n",
       "<style scoped>\n",
       "    .dataframe tbody tr th:only-of-type {\n",
       "        vertical-align: middle;\n",
       "    }\n",
       "\n",
       "    .dataframe tbody tr th {\n",
       "        vertical-align: top;\n",
       "    }\n",
       "\n",
       "    .dataframe thead th {\n",
       "        text-align: right;\n",
       "    }\n",
       "</style>\n",
       "<table border=\"1\" class=\"dataframe\">\n",
       "  <thead>\n",
       "    <tr style=\"text-align: right;\">\n",
       "      <th></th>\n",
       "      <th>Elastic Net (train)</th>\n",
       "      <th>Elastic Net (test)</th>\n",
       "      <th>Ridge (train)</th>\n",
       "      <th>Ridge (test)</th>\n",
       "      <th>Lasso (train)</th>\n",
       "      <th>Lasso (test)</th>\n",
       "      <th>Polynomial (train)</th>\n",
       "      <th>Polynomial (test)</th>\n",
       "    </tr>\n",
       "    <tr>\n",
       "      <th>alpha</th>\n",
       "      <th></th>\n",
       "      <th></th>\n",
       "      <th></th>\n",
       "      <th></th>\n",
       "      <th></th>\n",
       "      <th></th>\n",
       "      <th></th>\n",
       "      <th></th>\n",
       "    </tr>\n",
       "  </thead>\n",
       "  <tbody>\n",
       "    <tr>\n",
       "      <th>0.1</th>\n",
       "      <td>0.889522</td>\n",
       "      <td>0.798621</td>\n",
       "      <td>0.894565</td>\n",
       "      <td>0.804260</td>\n",
       "      <td>0.890292</td>\n",
       "      <td>0.788565</td>\n",
       "      <td>0.87005</td>\n",
       "      <td>0.809837</td>\n",
       "    </tr>\n",
       "    <tr>\n",
       "      <th>1.0</th>\n",
       "      <td>0.887349</td>\n",
       "      <td>0.817578</td>\n",
       "      <td>0.894454</td>\n",
       "      <td>0.803464</td>\n",
       "      <td>0.890293</td>\n",
       "      <td>0.788612</td>\n",
       "      <td>0.87005</td>\n",
       "      <td>0.809837</td>\n",
       "    </tr>\n",
       "    <tr>\n",
       "      <th>5.0</th>\n",
       "      <td>0.886222</td>\n",
       "      <td>0.824603</td>\n",
       "      <td>0.894299</td>\n",
       "      <td>0.802709</td>\n",
       "      <td>0.890294</td>\n",
       "      <td>0.789100</td>\n",
       "      <td>0.87005</td>\n",
       "      <td>0.809837</td>\n",
       "    </tr>\n",
       "    <tr>\n",
       "      <th>25.0</th>\n",
       "      <td>0.885754</td>\n",
       "      <td>0.830246</td>\n",
       "      <td>0.893798</td>\n",
       "      <td>0.805859</td>\n",
       "      <td>0.890272</td>\n",
       "      <td>0.790146</td>\n",
       "      <td>0.87005</td>\n",
       "      <td>0.809837</td>\n",
       "    </tr>\n",
       "    <tr>\n",
       "      <th>50.0</th>\n",
       "      <td>0.885682</td>\n",
       "      <td>0.831402</td>\n",
       "      <td>0.893333</td>\n",
       "      <td>0.809368</td>\n",
       "      <td>0.890190</td>\n",
       "      <td>0.791917</td>\n",
       "      <td>0.87005</td>\n",
       "      <td>0.809837</td>\n",
       "    </tr>\n",
       "    <tr>\n",
       "      <th>75.0</th>\n",
       "      <td>0.885653</td>\n",
       "      <td>0.831735</td>\n",
       "      <td>0.892978</td>\n",
       "      <td>0.811910</td>\n",
       "      <td>0.890075</td>\n",
       "      <td>0.794886</td>\n",
       "      <td>0.87005</td>\n",
       "      <td>0.809837</td>\n",
       "    </tr>\n",
       "    <tr>\n",
       "      <th>100.0</th>\n",
       "      <td>0.885637</td>\n",
       "      <td>0.831882</td>\n",
       "      <td>0.892698</td>\n",
       "      <td>0.813837</td>\n",
       "      <td>0.889935</td>\n",
       "      <td>0.796758</td>\n",
       "      <td>0.87005</td>\n",
       "      <td>0.809837</td>\n",
       "    </tr>\n",
       "    <tr>\n",
       "      <th>200.0</th>\n",
       "      <td>0.885624</td>\n",
       "      <td>0.832194</td>\n",
       "      <td>0.891978</td>\n",
       "      <td>0.818503</td>\n",
       "      <td>0.889342</td>\n",
       "      <td>0.810557</td>\n",
       "      <td>0.87005</td>\n",
       "      <td>0.809837</td>\n",
       "    </tr>\n",
       "    <tr>\n",
       "      <th>300.0</th>\n",
       "      <td>0.885638</td>\n",
       "      <td>0.832491</td>\n",
       "      <td>0.891566</td>\n",
       "      <td>0.821030</td>\n",
       "      <td>0.888596</td>\n",
       "      <td>0.817991</td>\n",
       "      <td>0.87005</td>\n",
       "      <td>0.809837</td>\n",
       "    </tr>\n",
       "    <tr>\n",
       "      <th>400.0</th>\n",
       "      <td>0.885661</td>\n",
       "      <td>0.832850</td>\n",
       "      <td>0.891292</td>\n",
       "      <td>0.822669</td>\n",
       "      <td>0.887865</td>\n",
       "      <td>0.818267</td>\n",
       "      <td>0.87005</td>\n",
       "      <td>0.809837</td>\n",
       "    </tr>\n",
       "    <tr>\n",
       "      <th>500.0</th>\n",
       "      <td>0.885687</td>\n",
       "      <td>0.833269</td>\n",
       "      <td>0.891093</td>\n",
       "      <td>0.823839</td>\n",
       "      <td>0.887469</td>\n",
       "      <td>0.820248</td>\n",
       "      <td>0.87005</td>\n",
       "      <td>0.809837</td>\n",
       "    </tr>\n",
       "    <tr>\n",
       "      <th>750.0</th>\n",
       "      <td>0.885748</td>\n",
       "      <td>0.834516</td>\n",
       "      <td>0.890759</td>\n",
       "      <td>0.825713</td>\n",
       "      <td>0.886616</td>\n",
       "      <td>0.825122</td>\n",
       "      <td>0.87005</td>\n",
       "      <td>0.809837</td>\n",
       "    </tr>\n",
       "    <tr>\n",
       "      <th>1000.0</th>\n",
       "      <td>0.885798</td>\n",
       "      <td>0.835895</td>\n",
       "      <td>0.890541</td>\n",
       "      <td>0.826820</td>\n",
       "      <td>0.886112</td>\n",
       "      <td>0.828332</td>\n",
       "      <td>0.87005</td>\n",
       "      <td>0.809837</td>\n",
       "    </tr>\n",
       "    <tr>\n",
       "      <th>2000.0</th>\n",
       "      <td>0.885871</td>\n",
       "      <td>0.840144</td>\n",
       "      <td>0.890055</td>\n",
       "      <td>0.828564</td>\n",
       "      <td>0.885674</td>\n",
       "      <td>0.829633</td>\n",
       "      <td>0.87005</td>\n",
       "      <td>0.809837</td>\n",
       "    </tr>\n",
       "  </tbody>\n",
       "</table>\n",
       "</div>"
      ],
      "text/plain": [
       "        Elastic Net (train)  Elastic Net (test)  Ridge (train)  Ridge (test)  \\\n",
       "alpha                                                                          \n",
       "0.1                0.889522            0.798621       0.894565      0.804260   \n",
       "1.0                0.887349            0.817578       0.894454      0.803464   \n",
       "5.0                0.886222            0.824603       0.894299      0.802709   \n",
       "25.0               0.885754            0.830246       0.893798      0.805859   \n",
       "50.0               0.885682            0.831402       0.893333      0.809368   \n",
       "75.0               0.885653            0.831735       0.892978      0.811910   \n",
       "100.0              0.885637            0.831882       0.892698      0.813837   \n",
       "200.0              0.885624            0.832194       0.891978      0.818503   \n",
       "300.0              0.885638            0.832491       0.891566      0.821030   \n",
       "400.0              0.885661            0.832850       0.891292      0.822669   \n",
       "500.0              0.885687            0.833269       0.891093      0.823839   \n",
       "750.0              0.885748            0.834516       0.890759      0.825713   \n",
       "1000.0             0.885798            0.835895       0.890541      0.826820   \n",
       "2000.0             0.885871            0.840144       0.890055      0.828564   \n",
       "\n",
       "        Lasso (train)  Lasso (test)  Polynomial (train)  Polynomial (test)  \n",
       "alpha                                                                       \n",
       "0.1          0.890292      0.788565             0.87005           0.809837  \n",
       "1.0          0.890293      0.788612             0.87005           0.809837  \n",
       "5.0          0.890294      0.789100             0.87005           0.809837  \n",
       "25.0         0.890272      0.790146             0.87005           0.809837  \n",
       "50.0         0.890190      0.791917             0.87005           0.809837  \n",
       "75.0         0.890075      0.794886             0.87005           0.809837  \n",
       "100.0        0.889935      0.796758             0.87005           0.809837  \n",
       "200.0        0.889342      0.810557             0.87005           0.809837  \n",
       "300.0        0.888596      0.817991             0.87005           0.809837  \n",
       "400.0        0.887865      0.818267             0.87005           0.809837  \n",
       "500.0        0.887469      0.820248             0.87005           0.809837  \n",
       "750.0        0.886616      0.825122             0.87005           0.809837  \n",
       "1000.0       0.886112      0.828332             0.87005           0.809837  \n",
       "2000.0       0.885674      0.829633             0.87005           0.809837  "
      ]
     },
     "execution_count": 18,
     "metadata": {},
     "output_type": "execute_result"
    }
   ],
   "source": [
    "pd.DataFrame({'Elastic Net (train)': scores_elasticnet_train,\n",
    "              'Elastic Net (test)': scores_elasticnet_test,\n",
    "              'Ridge (train)': scores_ridge_train,\n",
    "              'Ridge (test)': scores_ridge_test,\n",
    "              'Lasso (train)': scores_lasso_train,\n",
    "              'Lasso (test)': scores_lasso_test,\n",
    "              'Polynomial (train)': scores_poly_train,\n",
    "              'Polynomial (test)': scores_poly_test }, \n",
    "             index=alphas).rename_axis('alpha')"
   ]
  },
  {
   "cell_type": "code",
   "execution_count": 19,
   "metadata": {},
   "outputs": [
    {
     "data": {
      "image/png": "[encoded data removed]",
      "text/plain": [
       "<Figure size 720x432 with 1 Axes>"
      ]
     },
     "metadata": {
      "needs_background": "light"
     },
     "output_type": "display_data"
    }
   ],
   "source": [
    "plt.figure(figsize=(10, 6));\n",
    "plt.xlim([0, 2000])\n",
    "plt.ylim([0.75, 0.9])\n",
    "plt.xlabel('Regularization parameter (alpha)')\n",
    "plt.ylabel('R-squared')\n",
    "plt.plot(alphas, scores_ridge_train, label='Poynomial with Ridge (training)')\n",
    "plt.plot(alphas, scores_lasso_train, label='Poynomial with Lasso (training)')\n",
    "plt.plot(alphas, scores_elasticnet_train, label='Poynomial with Elastic Net (training)')\n",
    "plt.plot(alphas, scores_poly_train, label='Polynomial (training)')\n",
    "plt.plot(alphas, scores_elasticnet_test, label='Poynomial with Elastic Net (testing)')\n",
    "plt.plot(alphas, scores_ridge_test, label='Poynomial with Ridge (testing)')\n",
    "plt.plot(alphas, scores_lasso_test, label='Poynomial with Lasso (testing)')\n",
    "plt.plot(alphas, scores_poly_test, label='Polynomial (testing)')\n",
    "plt.legend(loc=4);"
   ]
  },
  {
   "cell_type": "markdown",
   "metadata": {},
   "source": [
    "Polynomial regression model regularized using Elastic Net seems to be performing the best followed by Lasso by looking at the $R^2$ on the test set."
   ]
  },
  {
   "cell_type": "code",
   "execution_count": 20,
   "metadata": {},
   "outputs": [
    {
     "data": {
      "image/png": "[encoded data removed]",
      "text/plain": [
       "<Figure size 432x288 with 1 Axes>"
      ]
     },
     "metadata": {
      "needs_background": "light"
     },
     "output_type": "display_data"
    }
   ],
   "source": [
    "x = housing['GrLivArea'].values\n",
    "\n",
    "plt.scatter(x, y);\n",
    "plt.xlabel('Greater Living Area');\n",
    "plt.ylabel('Sales Price');"
   ]
  },
  {
   "cell_type": "code",
   "execution_count": 21,
   "metadata": {},
   "outputs": [
    {
     "data": {
      "image/png": "[encoded data removed]",
      "text/plain": [
       "<Figure size 432x288 with 1 Axes>"
      ]
     },
     "metadata": {
      "needs_background": "light"
     },
     "output_type": "display_data"
    }
   ],
   "source": [
    "x = housing['GrLivArea'].values**2\n",
    "\n",
    "plt.scatter(x, y);\n",
    "plt.xlabel('Greater Living Area');\n",
    "plt.ylabel('Sales Price');"
   ]
  },
  {
   "cell_type": "markdown",
   "metadata": {},
   "source": [
    "- Add theory and chart for polynomial\n",
    "- Noise and regularization, say something\n",
    "- Lasso makes features go to zero, add blog\n",
    "- Add MSRE everywhere. \n",
    "- Plot it too.\n",
    "\n",
    "- Add at the end, \"In gradient based learning method, it is common to normalize the numerical variables to speed up the training\", make a model and submit.\n",
    "\n",
    "\n",
    "\n",
    "\n"
   ]
  },
  {
   "cell_type": "markdown",
   "metadata": {},
   "source": [
    "Acknowledgements to Coursera course"
   ]
  }
 ],
 "metadata": {
  "kernelspec": {
   "display_name": "Python 3",
   "language": "python",
   "name": "python3"
  },
  "language_info": {
   "codemirror_mode": {
    "name": "ipython",
    "version": 3
   },
   "file_extension": ".py",
   "mimetype": "text/x-python",
   "name": "python",
   "nbconvert_exporter": "python",
   "pygments_lexer": "ipython3",
   "version": "3.6.8"
  }
 },
 "nbformat": 4,
 "nbformat_minor": 2
}
